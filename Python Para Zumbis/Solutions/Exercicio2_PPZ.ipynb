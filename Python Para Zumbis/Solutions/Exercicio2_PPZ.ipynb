{
 "cells": [
  {
   "cell_type": "code",
   "execution_count": 7,
   "metadata": {},
   "outputs": [
    {
     "name": "stdout",
     "output_type": "stream",
     "text": [
      "Velocidade km/h: 100\n",
      "Siga em frente\n"
     ]
    }
   ],
   "source": [
    "v=int(input('Velocidade km/h: '))\n",
    "\n",
    "if v>110:\n",
    "    multa=(v-110)*5\n",
    "    print(f'Você foi multado! Pague R$ {multa:.2f}')\n",
    "else:\n",
    "    print('Siga em frente')"
   ]
  },
  {
   "cell_type": "code",
   "execution_count": 31,
   "metadata": {},
   "outputs": [
    {
     "name": "stdout",
     "output_type": "stream",
     "text": [
      "Minutos: 801\n",
      "Sua conta Tchau de telefone é de R$: 64.08\n"
     ]
    }
   ],
   "source": [
    "minutos=int(input('Minutos: '))\n",
    "\n",
    "if minutos<200:\n",
    "    conta=minutos*0.2    \n",
    "elif minutos <=400:\n",
    "    conta=minutos*0.18\n",
    "elif minutos <=800:\n",
    "    conta=minutos*0.15\n",
    "else:\n",
    "    conta=minutos*0.08\n",
    "print(f'Sua conta Tchau de telefone é de R$: {conta:.2f}')"
   ]
  },
  {
   "cell_type": "code",
   "execution_count": 130,
   "metadata": {},
   "outputs": [
    {
     "name": "stdout",
     "output_type": "stream",
     "text": [
      "1o lado: 10\n",
      "2o lado: 2\n",
      "3o lado: 3\n",
      "Não pode ser triângulo\n",
      "Um dos lados é maior que a soma dos outros dois lados\n"
     ]
    }
   ],
   "source": [
    "# 1 - Pergunte 3 lados, se os 3 lados dão um triângulo, se sim que tipo de triângulo\n",
    "l1=int(input('1o lado: '))\n",
    "l2=int(input('2o lado: '))\n",
    "l3=int(input('3o lado: '))\n",
    "\n",
    "if l1>l2+l3 or l2>l1+l2 or l3>l1+l2:\n",
    "    print('Não pode ser triângulo')\n",
    "    print('Um dos lados é maior que a soma dos outros dois lados')\n",
    "elif l1==l2==l3:\n",
    "    print('Triangulo Equilátero')\n",
    "elif l2==l3 or l1==l2 or l1==l3:\n",
    "    print('Triangulo Isósceles')\n",
    "else:\n",
    "    print('Triangulo Escaleno')"
   ]
  },
  {
   "cell_type": "code",
   "execution_count": 75,
   "metadata": {},
   "outputs": [
    {
     "name": "stdout",
     "output_type": "stream",
     "text": [
      "Ano: 2015\n",
      "2015 não é bissexto\n"
     ]
    }
   ],
   "source": [
    "# 2 - ano bissexto\n",
    "ano=int(input('Ano: '))\n",
    "\n",
    "teste=ano/4\n",
    "t2=int(teste)*4\n",
    "\n",
    "if t2==ano:\n",
    "    if ano!=int(ano/100)*100:\n",
    "        print(f'{ano} é bissexto')\n",
    "    else:\n",
    "        print(f'{ano} não é bissexto')\n",
    "else:\n",
    "    print(f'{ano} não é bissexto')"
   ]
  },
  {
   "cell_type": "code",
   "execution_count": 79,
   "metadata": {},
   "outputs": [
    {
     "name": "stdout",
     "output_type": "stream",
     "text": [
      "Kg: 50.4\n",
      "Excesso: 0.4 kg\n",
      "Multa: R$ 1.60\n"
     ]
    }
   ],
   "source": [
    "# 3 - multa de 4 reais por kg excendente a 50kg da pesca\n",
    "peso=float(input('Kg: '))\n",
    "\n",
    "if peso<=50:\n",
    "    excesso=0\n",
    "    multa=0\n",
    "    print(f'Excesso: {excesso:.1f}kg')\n",
    "    print(f'Multa: R$ {multa:.2f}')\n",
    "else:\n",
    "    excesso=peso-50\n",
    "    multa=excesso*4\n",
    "    print(f'Excesso: {excesso:.1f} kg')\n",
    "    print(f'Multa: R$ {multa:.2f}')"
   ]
  },
  {
   "cell_type": "code",
   "execution_count": 100,
   "metadata": {},
   "outputs": [
    {
     "name": "stdout",
     "output_type": "stream",
     "text": [
      "1o numero: 95\n",
      "2o numero: 5\n",
      "3o numero: 3\n",
      "95\n"
     ]
    }
   ],
   "source": [
    "# 4 - ler 3 números e mostrar o maior\n",
    "n1=int(input('1o numero: '))\n",
    "n2=int(input('2o numero: '))\n",
    "n3=int(input('3o numero: '))\n",
    "\n",
    "\n",
    "print(max(n1,n2,n3))"
   ]
  },
  {
   "cell_type": "code",
   "execution_count": 102,
   "metadata": {},
   "outputs": [
    {
     "name": "stdout",
     "output_type": "stream",
     "text": [
      "1o numero: 95\n",
      "2o numero: 5\n",
      "3o numero: 3\n",
      "Maior: 95\n",
      "Menor: 3\n"
     ]
    }
   ],
   "source": [
    "# 4 - ler 3 números e mostrar o maior e o menor\n",
    "\n",
    "x1=int(input('1o numero: '))\n",
    "x2=int(input('2o numero: '))\n",
    "x3=int(input('3o numero: '))\n",
    "\n",
    "a=(x1,x2,x3)\n",
    "\n",
    "maior=max(x1,x2,x3)\n",
    "menor=min(a)\n",
    "\n",
    "print(f'Maior: {maior}')\n",
    "print(f'Menor: {menor}')"
   ]
  },
  {
   "cell_type": "code",
   "execution_count": 132,
   "metadata": {},
   "outputs": [
    {
     "name": "stdout",
     "output_type": "stream",
     "text": [
      "Valor da sua hora: R$ 20\n",
      "Horas trabalhadas no mês: 200\n",
      "+Salário Bruto:\t\t R$ 4000.00\n",
      "-IR (11%):\t\t R$ 440.00\n",
      "-INSS (8%):\t\t R$ 320.00\n",
      "-Sindicato (5%):\t R$ 200.00\n",
      "=Salário Líquido:\t R$ 3040.00\n"
     ]
    }
   ],
   "source": [
    "# 5 - Qta ganha por hora, horas trabalhas no mês, sendo 11% IR, 8% INSS, 5% Sindicato\n",
    "vhora=float(input('Valor da sua hora: R$ '))\n",
    "hora_trab=int(input('Horas trabalhadas no mês: '))\n",
    "\n",
    "sal_brt=vhora*hora_trab\n",
    "ir=sal_brt*0.11\n",
    "inss=sal_brt*0.08\n",
    "sindicato=sal_brt*0.05\n",
    "descontos=ir+inss+sindicato\n",
    "sal_liq=sal_brt-descontos\n",
    "\n",
    "print(f'+Salário Bruto:\\t\\t R$ {sal_brt:.2f}')\n",
    "print(f'-IR (11%):\\t\\t R$ {ir:.2f}')\n",
    "print(f'-INSS (8%):\\t\\t R$ {inss:.2f}')\n",
    "print(f'-Sindicato (5%):\\t R$ {sindicato:.2f}')\n",
    "print(f'=Salário Líquido:\\t R$ {sal_liq:.2f}')"
   ]
  },
  {
   "cell_type": "code",
   "execution_count": 136,
   "metadata": {},
   "outputs": [
    {
     "name": "stdout",
     "output_type": "stream",
     "text": [
      "Metros quadrados: 60\n",
      "Precisa de 2 latas de tinta.\n",
      "O valor da compra é de R$ 160.00\n"
     ]
    }
   ],
   "source": [
    "# 7 - Pedir metros quadrados da área a ser pintada, 1l para cada 3m, lata vendida 18l por 80 reais. \n",
    "# Resposta qtde latas e valor total\n",
    "\n",
    "metro_q=float(input('Metros quadrados: '))\n",
    "\n",
    "if metro_q%54==0:\n",
    "    lata=metro_q/54\n",
    "else:\n",
    "    lata=int(metro_q/54)+1\n",
    "\n",
    "print(f'Precisa de {lata} latas de tinta.')\n",
    "print(f'O valor da compra é de R$ {lata*80:.2f}')"
   ]
  },
  {
   "cell_type": "code",
   "execution_count": null,
   "metadata": {},
   "outputs": [],
   "source": []
  }
 ],
 "metadata": {
  "kernelspec": {
   "display_name": "Python 3",
   "language": "python",
   "name": "python3"
  },
  "language_info": {
   "codemirror_mode": {
    "name": "ipython",
    "version": 3
   },
   "file_extension": ".py",
   "mimetype": "text/x-python",
   "name": "python",
   "nbconvert_exporter": "python",
   "pygments_lexer": "ipython3",
   "version": "3.8.5"
  }
 },
 "nbformat": 4,
 "nbformat_minor": 4
}
