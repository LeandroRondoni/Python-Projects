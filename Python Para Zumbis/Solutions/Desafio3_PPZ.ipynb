{
 "cells": [
  {
   "cell_type": "code",
   "execution_count": 17,
   "metadata": {},
   "outputs": [
    {
     "name": "stdout",
     "output_type": "stream",
     "text": [
      "Digite um n°: 6\n",
      "6 é triangular\n"
     ]
    }
   ],
   "source": [
    "# 1 - Dizemos que um número natural é triangular se ele é produto de três números naturais consecutivos. \n",
    "# Exemplo: 120 é triangular, pois 4.5.6 = 120. Dado um inteiro não-negativo n, verificar se n é triangular.\n",
    "\n",
    "n=int(input('Digite um n°: '))\n",
    "a, b, c = 1, 2, 3\n",
    "\n",
    "while n > a * b * c:\n",
    "    a, b, c = b, c, c + 1\n",
    "    print(a * b * c)\n",
    "    \n",
    "if n == a * b * c:\n",
    "    print(f'{n} é triangular')\n",
    "else:\n",
    "    print(f'{n} não é triangular')"
   ]
  },
  {
   "cell_type": "code",
   "execution_count": 3,
   "metadata": {},
   "outputs": [
    {
     "name": "stdout",
     "output_type": "stream",
     "text": [
      "N: 10\n",
      "False\n"
     ]
    }
   ],
   "source": [
    "n =int(input('N: '))\n",
    "k=1\n",
    "while k * (k + 1) * (k + 2) < n:\n",
    "    k = k + 1\n",
    "    \n",
    "print (k * (k + 1) * (k + 2) == n)"
   ]
  },
  {
   "cell_type": "markdown",
   "metadata": {},
   "source": [
    "## 2 - Indique como um troco deve ser dado utilizando-se um número mínimo de notas. Seu algoritmo deve ler o valor da conta a ser paga e o valor do pagamento efetuado desprezando os centavos. Suponha que as notas para troco sejam as de 50, 20, 10, 5, 2 e 1 reais, e que nenhuma delas esteja em falta no caixa"
   ]
  },
  {
   "cell_type": "code",
   "execution_count": 20,
   "metadata": {},
   "outputs": [
    {
     "name": "stdout",
     "output_type": "stream",
     "text": [
      "Compra: R$ 4\n",
      "Pagamento: R$ 200\n",
      "Notas de 50: 3\n",
      "Notas de 20: 2\n",
      "Notas de 10: 0\n",
      "Notas de 5: 1\n",
      "Notas de 2: 0\n",
      "Notas de 1: 1\n"
     ]
    }
   ],
   "source": [
    "valor=int(input('Compra: R$ '))\n",
    "pgto=int(input('Pagamento: R$ '))\n",
    "\n",
    "troco = pgto - valor\n",
    "n50=0\n",
    "n20=0\n",
    "n10=0\n",
    "n5=0\n",
    "n2=0\n",
    "n1=0\n",
    "\n",
    "while troco > 0:\n",
    "    if troco >= 50:\n",
    "        n50 = int(troco / 50)\n",
    "        troco = troco - n50 * 50\n",
    "    if troco >= 20:\n",
    "        n20 = int(troco / 20)\n",
    "        troco = troco - n20 * 20\n",
    "    if troco >= 10:\n",
    "        n10 = int(troco /10)\n",
    "        troco = troco - n10 * 10\n",
    "    if troco >= 5:\n",
    "        n5 = int(troco / 5)\n",
    "        troco = troco - n5 * 5\n",
    "    if troco >= 2:\n",
    "        n2 = int(troco / 2)\n",
    "        troco = troco - n2 * 2\n",
    "    if troco >= 1:\n",
    "        n1 = int(troco / 1)\n",
    "        troco = troco - n1 * 1\n",
    "\n",
    "        \n",
    "print(f'Notas de 50: {n50}')\n",
    "print(f'Notas de 20: {n20}')\n",
    "print(f'Notas de 10: {n10}')\n",
    "print(f'Notas de 5: {n5}')\n",
    "print(f'Notas de 2: {n2}')\n",
    "print(f'Notas de 1: {n1}')"
   ]
  },
  {
   "cell_type": "code",
   "execution_count": 4,
   "metadata": {},
   "outputs": [
    {
     "name": "stdout",
     "output_type": "stream",
     "text": [
      "Conta: 4\n",
      "Pagamento: 200\n",
      "Uma nota de 50\n",
      "Uma nota de 50\n",
      "Uma nota de 50\n",
      "Uma nota de 20\n",
      "Uma nota de 20\n",
      "Uma nota de 5\n",
      "Uma nota de 1\n"
     ]
    }
   ],
   "source": [
    "conta = int(input('Conta: '))\n",
    "pgto = int(input('Pagamento: '))\n",
    "troco = pgto - conta\n",
    "notas = [50, 20, 10, 5, 2, 1]\n",
    "for nota in notas:\n",
    "    while troco >= nota:\n",
    "        print(f'Uma nota de {nota}')\n",
    "        troco -= nota"
   ]
  },
  {
   "cell_type": "code",
   "execution_count": 30,
   "metadata": {},
   "outputs": [
    {
     "name": "stdout",
     "output_type": "stream",
     "text": [
      "Numero: 16\n",
      "NÃO Primou\n"
     ]
    }
   ],
   "source": [
    "# 3 - Verifique se um inteiro positivo n é primo.\n",
    "\n",
    "n=int(input('Numero: '))\n",
    "k=1\n",
    "resultado=0\n",
    "\n",
    "while n >= k:\n",
    "    primo = n % k\n",
    "    if primo == 0:\n",
    "        resultado = resultado + k\n",
    "        k=k+1\n",
    "    k=k+1\n",
    "    \n",
    "if resultado == n+1:\n",
    "    print('Primou')\n",
    "else:\n",
    "    print('NÃO Primou')"
   ]
  },
  {
   "cell_type": "code",
   "execution_count": 6,
   "metadata": {},
   "outputs": [
    {
     "name": "stdout",
     "output_type": "stream",
     "text": [
      "Número: 10\n",
      "False\n"
     ]
    }
   ],
   "source": [
    "n = int(input('Número: '))\n",
    "k = 1\n",
    "divisores = 0\n",
    "\n",
    "while k <= n:\n",
    "    if n % k == 0:\n",
    "        divisores = divisores + 1\n",
    "    k = k + 1\n",
    "print(divisores == 2)"
   ]
  },
  {
   "cell_type": "code",
   "execution_count": 1,
   "metadata": {},
   "outputs": [
    {
     "name": "stdout",
     "output_type": "stream",
     "text": [
      "Número: 10\n",
      "2\n",
      "5\n"
     ]
    }
   ],
   "source": [
    "# 4 - Dado um número inteiro positivo, determine a sua decomposição em fatores primos calculando também a\n",
    "#     multiplicidade de cada fator.\n",
    "\n",
    "n = int(input('Número: '))\n",
    "for k in range(2, n):\n",
    "    while n % k == 0:\n",
    "        print(k)\n",
    "        n = n / k"
   ]
  },
  {
   "cell_type": "code",
   "execution_count": 5,
   "metadata": {},
   "outputs": [
    {
     "name": "stdout",
     "output_type": "stream",
     "text": [
      "Número: 4567\n",
      "7654\n"
     ]
    }
   ],
   "source": [
    "n = input('Número: ')\n",
    "\n",
    "print(n[::-1])"
   ]
  },
  {
   "cell_type": "code",
   "execution_count": null,
   "metadata": {},
   "outputs": [],
   "source": []
  }
 ],
 "metadata": {
  "kernelspec": {
   "display_name": "Python 3",
   "language": "python",
   "name": "python3"
  },
  "language_info": {
   "codemirror_mode": {
    "name": "ipython",
    "version": 3
   },
   "file_extension": ".py",
   "mimetype": "text/x-python",
   "name": "python",
   "nbconvert_exporter": "python",
   "pygments_lexer": "ipython3",
   "version": "3.8.5"
  }
 },
 "nbformat": 4,
 "nbformat_minor": 4
}
