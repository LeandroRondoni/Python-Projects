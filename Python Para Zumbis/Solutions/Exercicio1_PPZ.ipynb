{
 "cells": [
  {
   "cell_type": "code",
   "execution_count": 1,
   "metadata": {},
   "outputs": [
    {
     "name": "stdout",
     "output_type": "stream",
     "text": [
      "N1:3\n",
      "N2:5\n",
      "8\n"
     ]
    }
   ],
   "source": [
    "# 1 - Peça dois números inteiros e imprima a soma desses dois números\n",
    "n1=int(input('N1:'))\n",
    "n2=int(input('N2:'))\n",
    "print(n1+n2)"
   ]
  },
  {
   "cell_type": "code",
   "execution_count": 8,
   "metadata": {},
   "outputs": [
    {
     "name": "stdout",
     "output_type": "stream",
     "text": [
      "Metros: 5\n",
      "Milímetros: 5000\n"
     ]
    }
   ],
   "source": [
    "# 2 - Escreva um programa que leia um valor em metros e o exiba convertido em milímetros\n",
    "m=int(input('Metros: '))\n",
    "print(f'Milímetros: {m*1000}')"
   ]
  },
  {
   "cell_type": "code",
   "execution_count": 9,
   "metadata": {},
   "outputs": [
    {
     "name": "stdout",
     "output_type": "stream",
     "text": [
      "Dias: 5\n",
      "Horas: 10\n",
      "Minutos: 50\n",
      "Segundos: 20\n",
      "471020\n"
     ]
    }
   ],
   "source": [
    "d=int(input('Dias: '))\n",
    "h=int(input('Horas: '))\n",
    "m=int(input('Minutos: '))\n",
    "s=int(input('Segundos: '))\n",
    "total=d*24*60*60+h*60*60+m*60+s\n",
    "print(total)"
   ]
  },
  {
   "cell_type": "code",
   "execution_count": 13,
   "metadata": {},
   "outputs": [
    {
     "name": "stdout",
     "output_type": "stream",
     "text": [
      "Salário: 2000\n",
      "Aumento %: 6\n",
      "O aumento foi de R$ 120.00 e o novo salário é de R$ 2120.00\n"
     ]
    }
   ],
   "source": [
    "#Exercicio 4\n",
    "salario=int(input('Salário: '))\n",
    "aumento=int(input('Aumento %: '))\n",
    "valor_aumento=salario*aumento/100\n",
    "novo_salario=salario+(salario*aumento/100)\n",
    "print(f'O aumento foi de R$ {valor_aumento:.2f} e o novo salário é de R$ {novo_salario:.2f}')"
   ]
  },
  {
   "cell_type": "code",
   "execution_count": 14,
   "metadata": {},
   "outputs": [
    {
     "name": "stdout",
     "output_type": "stream",
     "text": [
      "Preço da mercadoria: 100\n",
      "Desconto %: 10\n",
      "Desconto: R$ 10.00\n",
      "Valor a pagar: R$ 90.00\n"
     ]
    }
   ],
   "source": [
    "#Exercicio 5\n",
    "preco=int(input('Preço da mercadoria: '))\n",
    "desc=int(input('Desconto %: '))\n",
    "vdesc=preco*desc/100\n",
    "pag=preco-(vdesc)\n",
    "print(f'Desconto: R$ {vdesc:.2f}')\n",
    "print(f'Valor a pagar: R$ {pag:.2f}')\n"
   ]
  },
  {
   "cell_type": "code",
   "execution_count": 15,
   "metadata": {},
   "outputs": [
    {
     "name": "stdout",
     "output_type": "stream",
     "text": [
      "Distância km: 1000\n",
      "Velocidade média km/h: 100\n",
      "Tempo: 10.0\n"
     ]
    }
   ],
   "source": [
    "#Exercicio 6\n",
    "d=float(input('Distância km: '))\n",
    "v=float(input('Velocidade média km/h: '))\n",
    "t=d/v\n",
    "print(f'Tempo: {t:.1f}')"
   ]
  },
  {
   "cell_type": "code",
   "execution_count": 17,
   "metadata": {},
   "outputs": [
    {
     "name": "stdout",
     "output_type": "stream",
     "text": [
      "Temperatura em graus Celsius:10\n",
      "10.0° Celsius é igual a 50.0° Fahrenheit.\n"
     ]
    }
   ],
   "source": [
    "#Exercicio 7\n",
    "c=float(input('Temperatura em graus Celsius:'))\n",
    "f=9*c/5+32\n",
    "print(f'{c:.2f}° Celsius é igual a {f:.2f}° Fahrenheit.')"
   ]
  },
  {
   "cell_type": "code",
   "execution_count": 19,
   "metadata": {},
   "outputs": [
    {
     "name": "stdout",
     "output_type": "stream",
     "text": [
      "Fahrenheit: 36\n",
      "2.22° Celsius.\n"
     ]
    }
   ],
   "source": [
    "#Exercicio 8\n",
    "f=float(input('Fahrenheit: '))\n",
    "c=(f-32)*5/9\n",
    "print(f'{c:.2f}° Celsius.')"
   ]
  },
  {
   "cell_type": "code",
   "execution_count": 22,
   "metadata": {},
   "outputs": [
    {
     "name": "stdout",
     "output_type": "stream",
     "text": [
      "Km percorridos: 2000\n",
      "Dias alugados: 5\n",
      "R$: 600.00\n"
     ]
    }
   ],
   "source": [
    "#Exercicio 9\n",
    "dist=float(input('Km percorridos: '))\n",
    "dias=int(input('Dias alugados: '))\n",
    "total=dist*0.15+dias*60\n",
    "print(f'R$: {total:.2f}')"
   ]
  },
  {
   "cell_type": "code",
   "execution_count": 25,
   "metadata": {},
   "outputs": [
    {
     "name": "stdout",
     "output_type": "stream",
     "text": [
      "Qtde de cigarros fumados por dia: 10\n",
      "Anos fumados: 10\n",
      "Perdeu 253.5 dias de vida\n"
     ]
    }
   ],
   "source": [
    "#Exercicio 10\n",
    "qtde=int(input('Qtde de cigarros fumados por dia: '))\n",
    "ano=int(input('Anos fumados: '))\n",
    "total=(ano*365*qtde*10)/1440\n",
    "print(f'Perdeu {total:.1f} dias de vida')"
   ]
  },
  {
   "cell_type": "code",
   "execution_count": 34,
   "metadata": {},
   "outputs": [
    {
     "name": "stdout",
     "output_type": "stream",
     "text": [
      "301030\n"
     ]
    }
   ],
   "source": [
    "#Exercicio 11\n",
    "print(len(str(2**1000000)))"
   ]
  },
  {
   "cell_type": "code",
   "execution_count": null,
   "metadata": {},
   "outputs": [],
   "source": []
  }
 ],
 "metadata": {
  "kernelspec": {
   "display_name": "Python 3",
   "language": "python",
   "name": "python3"
  },
  "language_info": {
   "codemirror_mode": {
    "name": "ipython",
    "version": 3
   },
   "file_extension": ".py",
   "mimetype": "text/x-python",
   "name": "python",
   "nbconvert_exporter": "python",
   "pygments_lexer": "ipython3",
   "version": "3.8.5"
  }
 },
 "nbformat": 4,
 "nbformat_minor": 4
}
