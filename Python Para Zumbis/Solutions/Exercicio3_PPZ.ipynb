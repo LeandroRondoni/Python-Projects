{
 "cells": [
  {
   "cell_type": "code",
   "execution_count": null,
   "metadata": {},
   "outputs": [],
   "source": [
    "x=int(input('No.: '))\n",
    "\n",
    "num=1\n",
    "\n",
    "while num<=x:\n",
    "    if num%2==0:\n",
    "        print(num)\n",
    "    num=num+1"
   ]
  },
  {
   "cell_type": "code",
   "execution_count": null,
   "metadata": {},
   "outputs": [],
   "source": [
    "n=1\n",
    "soma=0\n",
    "while n<=10:\n",
    "    x=int(input(f'{n} número: '))\n",
    "    soma=soma+x\n",
    "    n=n+1\n",
    "print(f'Média: {soma/10:.1f}')"
   ]
  },
  {
   "cell_type": "code",
   "execution_count": null,
   "metadata": {},
   "outputs": [],
   "source": [
    "k=1\n",
    "fat=1\n",
    "\n",
    "lido=int(input('Calcularei o fatorial de: '))\n",
    "while k<=lido:\n",
    "    fat=fat*k\n",
    "    k=k+1\n",
    "print(f'fat({lido}) = {fat}')"
   ]
  },
  {
   "cell_type": "code",
   "execution_count": null,
   "metadata": {},
   "outputs": [],
   "source": [
    "soma=0\n",
    "k=0\n",
    "while True:\n",
    "    x=int(input('n (zero sai): '))\n",
    "    if x == 0:\n",
    "        break\n",
    "    soma=soma+x\n",
    "    k=k+1\n",
    "print(f'Média: {soma/k}')"
   ]
  },
  {
   "cell_type": "code",
   "execution_count": null,
   "metadata": {},
   "outputs": [],
   "source": [
    "t=1\n",
    "while t<=10:\n",
    "    print(f'Tabuada do {t}')\n",
    "    n=1\n",
    "    while n<=10:\n",
    "        print(f'{t} x {n} = {t*n}')\n",
    "        n=n+1\n",
    "    t=t+1\n",
    "    print()"
   ]
  },
  {
   "cell_type": "code",
   "execution_count": null,
   "metadata": {},
   "outputs": [],
   "source": [
    "# 1 - Nota entre zero e dez, msg caso for invalido.\n",
    "\n",
    "nota=int(input('Informe uma nota de 0 a 10: '))\n",
    "\n",
    "while nota<0 or nota>10:\n",
    "    nota=int(input('Valor inválido. Favor digite um número entre 0 e 10: '))\n",
    "print(f'Registrado nota: {nota}')"
   ]
  },
  {
   "cell_type": "code",
   "execution_count": 51,
   "metadata": {},
   "outputs": [
    {
     "name": "stdout",
     "output_type": "stream",
     "text": [
      "Digite seu ID: leandro\n",
      "Digite sua senha: leandro\n",
      "Erro!!! Senha não pode ser igual ao ID. Tente novamente...\n",
      "Digite seu ID: leandro\n",
      "Digite sua senha: 123\n"
     ]
    }
   ],
   "source": [
    "# 2 - Faça um programa que leia um nome de usuário e a sua senha e não aceite a senha igual ao nome do usuário, \n",
    "# mostrando uma mensagem de erro e voltando a pedir as informações.\n",
    "\n",
    "usuario=input('Digite seu ID: ')\n",
    "senha=input('Digite sua senha: ')\n",
    "\n",
    "while usuario==senha:\n",
    "    print('Erro!!! Senha não pode ser igual ao ID. Tente novamente...')\n",
    "    usuario=input('Digite seu ID: ')\n",
    "    senha=input('Digite sua senha: ')"
   ]
  },
  {
   "cell_type": "code",
   "execution_count": 52,
   "metadata": {},
   "outputs": [
    {
     "name": "stdout",
     "output_type": "stream",
     "text": [
      "A: 515033.10, B: 510964.42, Anos: 63\n"
     ]
    }
   ],
   "source": [
    "# 3 - Supondo que a população de um país A seja da ordem de 80000 habitantes com uma taxa anual de crescimento de 3% e que a \n",
    "#população de B seja 200000 habitantes com uma taxa de crescimento de 1.5%. Faça um programa que calcule e escreva o número \n",
    "#de anos necessários para que a população do país A ultrapasse ou iguale a população do país B, mantidas as taxas de crescimento\n",
    "\n",
    "\n",
    "a=80000\n",
    "b=200000\n",
    "anos=0\n",
    "\n",
    "while a<b:\n",
    "    a = a + a * 0.03\n",
    "    b = b + b * 0.015\n",
    "    anos = anos + 1\n",
    "    \n",
    "print(f'A: {a:.2f}, B: {b:.2f}, Anos: {anos}')"
   ]
  },
  {
   "cell_type": "code",
   "execution_count": 43,
   "metadata": {},
   "outputs": [
    {
     "name": "stdout",
     "output_type": "stream",
     "text": [
      "Digite um número inteiro: 10\n",
      "Seu número de Fibonnacci é: 55\n"
     ]
    }
   ],
   "source": [
    "# 4 - A seqüência de Fibonacci é a seguinte: 1, 1, 2, 3, 5, 8, 13, 21, 34, 55, ... Sua regra de formação é simples: os dois primeiros\n",
    "# elementos são 1; a partir de então, cada elemento é a soma dos dois anteriores.\n",
    "\n",
    "C, D = 1, 1\n",
    "n=int(input('Digite um número inteiro: '))\n",
    "k=0\n",
    "\n",
    "if n==1:\n",
    "    print(f'Seu número de Fibonnacci é: {C}')\n",
    "else:\n",
    "    while k!=n-2:\n",
    "        C, D = D, C + D\n",
    "        k=k+1\n",
    "\n",
    "    print(f'Seu número de Fibonnacci é: {D}')"
   ]
  },
  {
   "cell_type": "code",
   "execution_count": 50,
   "metadata": {},
   "outputs": [
    {
     "name": "stdout",
     "output_type": "stream",
     "text": [
      "1o número: 24\n",
      "2o número: 42\n",
      "6\n"
     ]
    }
   ],
   "source": [
    "# 5 - Dados dois números inteiros positivos, determinar o máximo divisor comum entre eles usando o algoritmo de Euclides\n",
    "\n",
    "e=int(input('1o número: '))\n",
    "f=int(input('2o número: '))\n",
    "\n",
    "while e % f != 0:\n",
    "    e , f = f, e % f\n",
    "print(f)"
   ]
  },
  {
   "cell_type": "code",
   "execution_count": null,
   "metadata": {},
   "outputs": [],
   "source": []
  },
  {
   "cell_type": "code",
   "execution_count": null,
   "metadata": {},
   "outputs": [],
   "source": []
  }
 ],
 "metadata": {
  "kernelspec": {
   "display_name": "Python 3",
   "language": "python",
   "name": "python3"
  },
  "language_info": {
   "codemirror_mode": {
    "name": "ipython",
    "version": 3
   },
   "file_extension": ".py",
   "mimetype": "text/x-python",
   "name": "python",
   "nbconvert_exporter": "python",
   "pygments_lexer": "ipython3",
   "version": "3.8.5"
  }
 },
 "nbformat": 4,
 "nbformat_minor": 4
}
