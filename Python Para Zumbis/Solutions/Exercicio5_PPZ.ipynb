{
 "cells": [
  {
   "cell_type": "code",
   "execution_count": 1,
   "metadata": {},
   "outputs": [
    {
     "name": "stdout",
     "output_type": "stream",
     "text": [
      "9\n"
     ]
    }
   ],
   "source": [
    "## 1 - O que o seguinte programa (dado na forma de pseucódigo) imprime?\n",
    "\n",
    "x = 2\n",
    "y = 5\n",
    "if y > 8:\n",
    "    y = y * 2\n",
    "else:\n",
    "    x = x * 2\n",
    "print(x + y)"
   ]
  },
  {
   "cell_type": "code",
   "execution_count": 3,
   "metadata": {},
   "outputs": [
    {
     "data": {
      "text/plain": [
       "48"
      ]
     },
     "execution_count": 3,
     "metadata": {},
     "output_type": "execute_result"
    }
   ],
   "source": [
    "## Quantas vezes o trecho de pseudocódigo seguinte imprime 'oi'?\n",
    "\n",
    "qtde = 0\n",
    "\n",
    "for i in range(1, 10):\n",
    "    if i != 3:\n",
    "        for j in range(1, 7):\n",
    "            qtde += 1\n",
    "            \n",
    "qtde"
   ]
  },
  {
   "cell_type": "code",
   "execution_count": 4,
   "metadata": {},
   "outputs": [
    {
     "name": "stdout",
     "output_type": "stream",
     "text": [
      "183\n"
     ]
    }
   ],
   "source": [
    "## 3 - Entre 1067 e 3627 (inclusive), quantos números são pares e também divisíveis por 7?\n",
    "\n",
    "qtde = 0\n",
    "\n",
    "for i in range(1067, 3628):\n",
    "    if i % 2 == 0 and i % 7 == 0:\n",
    "        qtde += 1\n",
    "        \n",
    "print(qtde)b"
   ]
  },
  {
   "cell_type": "code",
   "execution_count": 8,
   "metadata": {},
   "outputs": [
    {
     "name": "stdout",
     "output_type": "stream",
     "text": [
      "183\n"
     ]
    }
   ],
   "source": [
    "print(len([k for k in range(1067, 3628)\n",
    "           if k % 2 == 0 and k % 7 == 0]))"
   ]
  },
  {
   "cell_type": "markdown",
   "metadata": {},
   "source": [
    "## 4 - Daniela é uma pessoa muito supersticiosa. Para ela, um número é sortudo se ele contém o dígito 2 mas não o dígito 7. Então, na opinião dela, quantos números sortudos existem entre 18644 e 33087, incluindo os extremos?"
   ]
  },
  {
   "cell_type": "code",
   "execution_count": 9,
   "metadata": {},
   "outputs": [
    {
     "data": {
      "text/plain": [
       "7995"
      ]
     },
     "execution_count": 9,
     "metadata": {},
     "output_type": "execute_result"
    }
   ],
   "source": [
    "qtde = 0\n",
    "\n",
    "for k in range(18644, 33088):\n",
    "    if '2' in str(k) and '7' not in str(k):\n",
    "        qtde += 1\n",
    "qtde"
   ]
  },
  {
   "cell_type": "markdown",
   "metadata": {},
   "source": [
    "## Na pacata vila campestre de Ponteironuloville, todos os telefones têm 6 dígitos. A companhia telefônica estabelece as seguintes regras sobre os números:\n",
    "\n",
    "### 1. Não pode haver dois dígitos consecutivos idênticos, porque isso é chato;\n",
    "### 2. A soma dos dígitos tem que ser par, porque isso é legal;\n",
    "### 3. O último dígito não pode ser igual ao primeiro, porque isso dá azar.\n",
    "\n",
    "## Então, dadas essas regras perfeitamente razoáveis, bem projetadas e maduras, quantos números de telefone na lista abaixo são válidos?"
   ]
  },
  {
   "cell_type": "code",
   "execution_count": 1,
   "metadata": {},
   "outputs": [],
   "source": [
    "telefone = '''\n",
    "213752 216732 221063 221545 225583 229133 230648 233222\n",
    "236043 237330 239636 240138 242123 246224 249183 252936\n",
    "254711 257200 257607 261424 263814 266794 268649 273050\n",
    "275001 277606 278997 283331 287104 287953 289137 291591\n",
    "292559 292946 295180 295566 297529 300400 304707 306931\n",
    "310638 313595 318449 319021 322082 323796 326266 326880\n",
    "327249 329914 334392 334575 336723 336734 338808 343269\n",
    "346040 350113 353631 357154 361633 361891 364889 365746\n",
    "365749 366426 369156 369444 369689 372896 374983 375223\n",
    "379163 380712 385640 386777 388599 389450 390178 392943\n",
    "394742 395921 398644 398832 401149 402219 405364 408088\n",
    "412901 417683 422267 424767 426613 430474 433910 435054\n",
    "440052 444630 447852 449116 453865 457631 461750 462985\n",
    "463328 466458 469601 473108 476773 477956 481991 482422\n",
    "486195 488359 489209 489388 491928 496569 496964 497901\n",
    "500877 502386 502715 507617 512526 512827 513796 518232\n",
    "521455 524277 528496 529345 531231 531766 535067 535183\n",
    "536593 537360 539055 540582 543708 547492 550779 551595\n",
    "556493 558807 559102 562050 564962 569677 570945 575447\n",
    "579937 580112 580680 582458 583012 585395 586244 587393\n",
    "590483 593112 593894 594293 597525 598184 600455 600953\n",
    "601523 605761 608618 609198 610141 610536 612636 615233\n",
    "618314 622752 626345 626632 628889 629457 629643 633673\n",
    "637656 641136 644176 644973 647617 652218 657143 659902\n",
    "662224 666265 668010 672480 672695 676868 677125 678315'''\n",
    "\n",
    "telefone = telefone.split()\n",
    "nova_lista = []\n",
    "pares = []\n",
    "\n",
    "def consecutivos():\n",
    "    for i in telefone:\n",
    "        for k in range(10):            \n",
    "            pares.append(str(k) + str(k))\n",
    "        teste = []\n",
    "        for par in pares:\n",
    "            if par in i:\n",
    "                teste.append(True)\n",
    "            else:\n",
    "                teste.append(False)\n",
    "        if True not in teste:\n",
    "            nova_lista.append(i)\n",
    "    return nova_lista\n",
    "\n",
    "def somaepar(x):\n",
    "    soma = 0\n",
    "    for k in str(x):\n",
    "        soma += int(k)\n",
    "    if soma % 2 == 0:\n",
    "        return True\n",
    "    else:\n",
    "        return False\n",
    "    \n",
    "def diferente(x):\n",
    "    if x[0] != x[-1]:\n",
    "        return True\n",
    "    else:\n",
    "        return False"
   ]
  },
  {
   "cell_type": "code",
   "execution_count": 2,
   "metadata": {},
   "outputs": [
    {
     "data": {
      "text/plain": [
       "113"
      ]
     },
     "execution_count": 2,
     "metadata": {},
     "output_type": "execute_result"
    }
   ],
   "source": [
    "consecutivos()\n",
    "len(nova_lista)"
   ]
  },
  {
   "cell_type": "code",
   "execution_count": 3,
   "metadata": {},
   "outputs": [
    {
     "data": {
      "text/plain": [
       "49"
      ]
     },
     "execution_count": 3,
     "metadata": {},
     "output_type": "execute_result"
    }
   ],
   "source": [
    "n2 = []\n",
    "\n",
    "for s in nova_lista:\n",
    "    if somaepar(s) == True:\n",
    "        n2.append(s)\n",
    "len(n2)"
   ]
  },
  {
   "cell_type": "code",
   "execution_count": 4,
   "metadata": {},
   "outputs": [
    {
     "data": {
      "text/plain": [
       "39"
      ]
     },
     "execution_count": 4,
     "metadata": {},
     "output_type": "execute_result"
    }
   ],
   "source": [
    "resp = []\n",
    "\n",
    "for y in n2:\n",
    "    if diferente(y) == True:\n",
    "        resp.append(y)\n",
    "        \n",
    "len(resp)"
   ]
  },
  {
   "cell_type": "code",
   "execution_count": 5,
   "metadata": {},
   "outputs": [
    {
     "data": {
      "text/plain": [
       "200"
      ]
     },
     "execution_count": 5,
     "metadata": {},
     "output_type": "execute_result"
    }
   ],
   "source": [
    "len(telefone)"
   ]
  },
  {
   "cell_type": "code",
   "execution_count": null,
   "metadata": {},
   "outputs": [],
   "source": []
  }
 ],
 "metadata": {
  "kernelspec": {
   "display_name": "Python 3",
   "language": "python",
   "name": "python3"
  },
  "language_info": {
   "codemirror_mode": {
    "name": "ipython",
    "version": 3
   },
   "file_extension": ".py",
   "mimetype": "text/x-python",
   "name": "python",
   "nbconvert_exporter": "python",
   "pygments_lexer": "ipython3",
   "version": "3.8.5"
  }
 },
 "nbformat": 4,
 "nbformat_minor": 4
}
