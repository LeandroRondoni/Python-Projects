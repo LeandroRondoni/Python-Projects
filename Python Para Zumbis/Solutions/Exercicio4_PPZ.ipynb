{
 "cells": [
  {
   "cell_type": "markdown",
   "metadata": {},
   "source": [
    "## 1 - Sorteie 10 inteiros entre 1 e 100 para uma lista e descubra o maior e o menor valor, sem usar as funções max e min."
   ]
  },
  {
   "cell_type": "code",
   "execution_count": 2,
   "metadata": {},
   "outputs": [
    {
     "name": "stdout",
     "output_type": "stream",
     "text": [
      "[83, 55, 62, 5, 25, 71, 66, 51, 92, 93]\n",
      "Maior: 93, Menor: 5\n"
     ]
    }
   ],
   "source": [
    "import random\n",
    "\n",
    "n = random.sample(range(100), 10)\n",
    "print(n)\n",
    "\n",
    "maior = 0\n",
    "menor = 100\n",
    "\n",
    "for k in range(10):\n",
    "    if n[k] > maior:\n",
    "        maior = n[k]\n",
    "    \n",
    "    \n",
    "    if n[k] < menor:\n",
    "        menor = n[k]    \n",
    "\n",
    "print(f'Maior: {maior}, Menor: {menor}')"
   ]
  },
  {
   "cell_type": "markdown",
   "metadata": {},
   "source": [
    "## 2 - Sorteie 20 inteiros entre 1 e 100 numa lista. Armazene os números pares na lista PAR e os números ímpares na lista IMPAR. Imprima as três listas."
   ]
  },
  {
   "cell_type": "code",
   "execution_count": 3,
   "metadata": {},
   "outputs": [
    {
     "name": "stdout",
     "output_type": "stream",
     "text": [
      "[56, 40, 5, 45, 4, 86, 36, 75, 29, 70, 99, 58, 12, 64, 52, 21, 50, 98, 97, 84]\n",
      "[56, 40, 4, 86, 36, 70, 58, 12, 64, 52, 50, 98, 84]\n",
      "[5, 45, 75, 29, 99, 21, 97]\n"
     ]
    }
   ],
   "source": [
    "lista = random.sample(range(100), 20)\n",
    "par = []\n",
    "impar = []\n",
    "\n",
    "for k in range(20):\n",
    "    if lista[k] % 2 == 0:\n",
    "        par.append(lista[k])\n",
    "    else:\n",
    "        impar.append(lista[k])\n",
    "\n",
    "print(lista)\n",
    "print(par)\n",
    "print(impar)"
   ]
  },
  {
   "cell_type": "code",
   "execution_count": 4,
   "metadata": {},
   "outputs": [
    {
     "name": "stdout",
     "output_type": "stream",
     "text": [
      "Vetor [23, 19, 51, 22, 74, 25, 44, 10, 45, 12, 14, 80, 39, 40, 81, 88, 89, 21, 50, 13]\n",
      "Pares [22, 74, 44, 10, 12, 14, 80, 40, 88, 50]\n",
      "Impares [23, 19, 51, 25, 45, 39, 81, 89, 21, 13]\n"
     ]
    }
   ],
   "source": [
    "lista = random.sample(range(100), 20)\n",
    "par = [x for x in lista if x % 2 ==0]\n",
    "impar = [x for x in lista if x % 2 == 1]\n",
    "\n",
    "\n",
    "print('Vetor', lista)\n",
    "print('Pares', par)\n",
    "print('Impares', impar)"
   ]
  },
  {
   "cell_type": "markdown",
   "metadata": {},
   "source": [
    "## 3 - Faça um programa que crie dois vetores com 10 elementos aleatórios entre 1 e 100. Gere um terceiro vetor de 20 elementos, cujos valores deverão ser compostos pelos elementos intercalados dos dois outros vetores. Imprima os três vetores."
   ]
  },
  {
   "cell_type": "code",
   "execution_count": 5,
   "metadata": {},
   "outputs": [
    {
     "name": "stdout",
     "output_type": "stream",
     "text": [
      "[41, 91, 95, 61, 42, 62, 0, 64, 53, 17]\n",
      "[30, 29, 98, 87, 28, 14, 9, 90, 59, 93]\n",
      "[41, 30, 91, 29, 95, 98, 61, 87, 42, 28, 62, 14, 0, 9, 64, 90, 53, 59, 17, 93]\n"
     ]
    }
   ],
   "source": [
    "v1 = random.sample(range(100), 10)\n",
    "v2 = random.sample(range(100), 10)\n",
    "v3 = []\n",
    "\n",
    "for k in range(10):\n",
    "    v3.append(v1[k])\n",
    "    v3.append(v2[k])\n",
    "\n",
    "print(v1)\n",
    "print(v2)\n",
    "print(v3)"
   ]
  },
  {
   "cell_type": "code",
   "execution_count": 6,
   "metadata": {},
   "outputs": [
    {
     "name": "stdout",
     "output_type": "stream",
     "text": [
      "v1: [78, 91, 61, 96, 2, 25, 22, 79, 98, 23]\n",
      "v2: [0, 51, 56, 82, 16, 75, 47, 65, 12, 71]\n",
      "v3: [78, 0, 91, 51, 61, 56, 96, 82, 2, 16, 25, 75, 22, 47, 79, 65, 98, 12, 23, 71]\n"
     ]
    }
   ],
   "source": [
    "v1 = random.sample(range(100), 10)\n",
    "v2 = random.sample(range(100), 10)\n",
    "v3 = []\n",
    "for x in zip(v1, v2):\n",
    "    v3.extend(list(x))\n",
    "print('v1:', v1)\n",
    "print('v2:', v2)\n",
    "print('v3:', v3)"
   ]
  },
  {
   "cell_type": "markdown",
   "metadata": {},
   "source": [
    "## 4 - Seja o statement sobre diversidade: “The Python Software Foundation and the global Python community welcome and encourage participation by everyone. Our community is based on mutual respect, tolerance, and encouragement, and we are working to help each other live up to these principles. We want our community to be more diverse: whoever you are, and whatever your background, we welcome you.”. Gere uma lista de palavras deste texto com split(), a seguir crie uma lista com as palavras que começam ou terminam com uma das letras “python”. Imprima a lista resultante. Não se esqueça de remover antes os caracteres especiais e cuidado com maiúsculas e minúsculas."
   ]
  },
  {
   "cell_type": "code",
   "execution_count": 8,
   "metadata": {},
   "outputs": [
    {
     "name": "stdout",
     "output_type": "stream",
     "text": [
      "['the', 'python', 'foundation', 'the', 'python', 'community', 'participation', 'by', 'our', 'community', 'on', 'respect', 'tolerance', 'encouragement', 'to', 'help', 'each', 'other', 'up', 'to', 'these', 'principles', 'want', 'our', 'community', 'to', 'you', 'your', 'you']\n"
     ]
    }
   ],
   "source": [
    "texto = '''\n",
    "The Python Software Foundation and the global Python community welcome and encourage participation by everyone. Our community is based on mutual respect, tolerance, and encouragement, and we are working to help each other live up to these principles. We want our community to be more diverse: whoever you are, and whatever your background, we welcome you.\n",
    "'''\n",
    "\n",
    "\n",
    "texto = texto.replace(',', ' ')\n",
    "texto = texto.replace('.', ' ')\n",
    "texto = texto.replace(':', ' ')\n",
    "texto = texto.lower()\n",
    "lista = texto.split()\n",
    "\n",
    "resposta = []\n",
    "\n",
    "for k in lista:\n",
    "    if k[0] in 'python' or k[-1] in 'python':\n",
    "        resposta.append(k)\n",
    "        \n",
    "print(resposta)"
   ]
  },
  {
   "cell_type": "code",
   "execution_count": 9,
   "metadata": {},
   "outputs": [
    {
     "name": "stdout",
     "output_type": "stream",
     "text": [
      "['the', 'python', 'foundation', 'the', 'python', 'community', 'participation', 'by', 'our', 'community', 'on', 'respect', 'tolerance', 'encouragement', 'to', 'help', 'each', 'other', 'up', 'to', 'these', 'principles', 'want', 'our', 'community', 'to', 'you', 'your', 'you']\n"
     ]
    }
   ],
   "source": [
    "texto = '''\n",
    "The Python Software Foundation and the global Python community welcome and encourage participation by everyone. Our community is based on mutual respect, tolerance, and encouragement, and we are working to help each other live up to these principles. We want our community to be more diverse: whoever you are, and whatever your background, we welcome you.\n",
    "'''.lower()\n",
    "\n",
    "import string\n",
    "for c in string.punctuation:\n",
    "    texto = texto.replace(c, ' ')\n",
    "resp = [p for p in texto.split()\n",
    "       if p[0] in 'python' or p[-1] in 'python']\n",
    "print(resp)"
   ]
  },
  {
   "cell_type": "markdown",
   "metadata": {},
   "source": [
    "## 5 - Seja o mesmo texto acima “splitado”. Calcule quantas palavras possuem uma das letras “python” e que tenham mais de 4 caracteres. Não se esqueça de transformar maiúsculas para minúsculas e de remover antes os caracteres especiais."
   ]
  },
  {
   "cell_type": "code",
   "execution_count": 17,
   "metadata": {},
   "outputs": [
    {
     "name": "stdout",
     "output_type": "stream",
     "text": [
      "['python', 'software', 'foundation', 'global', 'python', 'community', 'welcome', 'encourage', 'participation', 'everyone', 'community', 'mutual', 'respect', 'tolerance', 'encouragement', 'working', 'other', 'these', 'principles', 'community', 'whoever', 'whatever', 'background', 'welcome']\n",
      "24\n"
     ]
    }
   ],
   "source": [
    "qtde = []\n",
    "\n",
    "for k in lista:\n",
    "    if len(k) > 4:\n",
    "        for p in k:\n",
    "            if p in 'python':\n",
    "                qtde.append(k)\n",
    "                break\n",
    "print(qtde)\n",
    "print(len(qtde))"
   ]
  },
  {
   "cell_type": "code",
   "execution_count": 12,
   "metadata": {},
   "outputs": [
    {
     "name": "stdout",
     "output_type": "stream",
     "text": [
      "['python', 'software', 'foundation', 'global', 'python', 'community', 'welcome', 'encourage', 'participation', 'everyone', 'community', 'mutual', 'respect', 'tolerance', 'encouragement', 'working', 'other', 'these', 'principles', 'community', 'whoever', 'whatever', 'background', 'welcome']\n",
      "24\n"
     ]
    }
   ],
   "source": [
    "def pitonica(palavra):\n",
    "    for letra in palavra:\n",
    "        if letra in 'python':\n",
    "            return True\n",
    "    return False\n",
    "\n",
    "resp = []\n",
    "\n",
    "for p in texto.split():\n",
    "    if pitonica(p) and len(p) > 4:\n",
    "        resp.append(p)\n",
    "print(resp)\n",
    "print(len(resp))"
   ]
  },
  {
   "cell_type": "code",
   "execution_count": 13,
   "metadata": {},
   "outputs": [
    {
     "name": "stdout",
     "output_type": "stream",
     "text": [
      "['python', 'software', 'foundation', 'global', 'python', 'community', 'welcome', 'encourage', 'participation', 'everyone', 'community', 'mutual', 'respect', 'tolerance', 'encouragement', 'working', 'other', 'these', 'principles', 'community', 'whoever', 'whatever', 'background', 'welcome']\n",
      "24\n"
     ]
    }
   ],
   "source": [
    "resp = [p for p in texto.split()\n",
    "       if pitonica(p) and len(p) > 4]\n",
    "print(resp)\n",
    "print(len(resp))"
   ]
  },
  {
   "cell_type": "code",
   "execution_count": null,
   "metadata": {},
   "outputs": [],
   "source": []
  }
 ],
 "metadata": {
  "kernelspec": {
   "display_name": "Python 3",
   "language": "python",
   "name": "python3"
  },
  "language_info": {
   "codemirror_mode": {
    "name": "ipython",
    "version": 3
   },
   "file_extension": ".py",
   "mimetype": "text/x-python",
   "name": "python",
   "nbconvert_exporter": "python",
   "pygments_lexer": "ipython3",
   "version": "3.8.5"
  }
 },
 "nbformat": 4,
 "nbformat_minor": 4
}
