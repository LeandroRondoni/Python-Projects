{
 "cells": [
  {
   "cell_type": "code",
   "execution_count": 1,
   "metadata": {},
   "outputs": [],
   "source": [
    "import pandas as pd\n",
    "import seaborn as sns\n",
    "import matplotlib.pyplot as plt"
   ]
  },
  {
   "cell_type": "code",
   "execution_count": 4,
   "metadata": {},
   "outputs": [
    {
     "data": {
      "text/html": [
       "<div>\n",
       "<style scoped>\n",
       "    .dataframe tbody tr th:only-of-type {\n",
       "        vertical-align: middle;\n",
       "    }\n",
       "\n",
       "    .dataframe tbody tr th {\n",
       "        vertical-align: top;\n",
       "    }\n",
       "\n",
       "    .dataframe thead th {\n",
       "        text-align: right;\n",
       "    }\n",
       "</style>\n",
       "<table border=\"1\" class=\"dataframe\">\n",
       "  <thead>\n",
       "    <tr style=\"text-align: right;\">\n",
       "      <th></th>\n",
       "      <th>Hospital</th>\n",
       "      <th>Municipio</th>\n",
       "      <th>Complexidade</th>\n",
       "      <th>Carater atendimento</th>\n",
       "      <th>Sub Grupo Procedimento</th>\n",
       "      <th>Procedimento</th>\n",
       "    </tr>\n",
       "  </thead>\n",
       "  <tbody>\n",
       "    <tr>\n",
       "      <th>0</th>\n",
       "      <td>6876617 HOSPITAL DA CRIANCA DE BRASILIA JOSE A...</td>\n",
       "      <td>BRASILIA, DF, BR</td>\n",
       "      <td>Média complexidade</td>\n",
       "      <td>Eletivo</td>\n",
       "      <td>Sub Grupo: 15 - Outras cirurgias</td>\n",
       "      <td>TRATAMENTO C/ CIRURGIAS MULTIPLAS</td>\n",
       "    </tr>\n",
       "    <tr>\n",
       "      <th>1</th>\n",
       "      <td>0010456 HBDF HOSPITAL DE BASE DO DISTRITO FEDERAL</td>\n",
       "      <td>BRASILIA, DF, BR</td>\n",
       "      <td>Média complexidade</td>\n",
       "      <td>Urgência</td>\n",
       "      <td>Sub Grupo: 03 - Cirurgia do sistema nervoso ce...</td>\n",
       "      <td>DERIVACAO VENTRICULAR EXTERNAR-SUBGALEAL EXTERNA</td>\n",
       "    </tr>\n",
       "    <tr>\n",
       "      <th>2</th>\n",
       "      <td>0010456 HBDF HOSPITAL DE BASE DO DISTRITO FEDERAL</td>\n",
       "      <td>BRASILIA, DF, BR</td>\n",
       "      <td>Média complexidade</td>\n",
       "      <td>Urgência</td>\n",
       "      <td>Sub Grupo: 15 - Outras cirurgias</td>\n",
       "      <td>TRATAMENTO C/ CIRURGIAS MULTIPLAS</td>\n",
       "    </tr>\n",
       "    <tr>\n",
       "      <th>3</th>\n",
       "      <td>6876617 HOSPITAL DA CRIANCA DE BRASILIA JOSE A...</td>\n",
       "      <td>BRASILIA, DF, BR</td>\n",
       "      <td>Média complexidade</td>\n",
       "      <td>Eletivo</td>\n",
       "      <td>Sub Grupo: 07 - Cirurgia do aparelho digestivo...</td>\n",
       "      <td>HERNIOPLASTIA UMBILICAL</td>\n",
       "    </tr>\n",
       "    <tr>\n",
       "      <th>4</th>\n",
       "      <td>0010456 HBDF HOSPITAL DE BASE DO DISTRITO FEDERAL</td>\n",
       "      <td>BRASILIA, DF, BR</td>\n",
       "      <td>Alta complexidade</td>\n",
       "      <td>Eletivo</td>\n",
       "      <td>Sub Grupo: 16 - Cirurgia em oncologia</td>\n",
       "      <td>RESSECCAO DE TUMOR DE PARTES MOLES EM ONCOLOGIA</td>\n",
       "    </tr>\n",
       "  </tbody>\n",
       "</table>\n",
       "</div>"
      ],
      "text/plain": [
       "                                            Hospital          Municipio  \\\n",
       "0  6876617 HOSPITAL DA CRIANCA DE BRASILIA JOSE A...  BRASILIA, DF, BR    \n",
       "1  0010456 HBDF HOSPITAL DE BASE DO DISTRITO FEDERAL  BRASILIA, DF, BR    \n",
       "2  0010456 HBDF HOSPITAL DE BASE DO DISTRITO FEDERAL  BRASILIA, DF, BR    \n",
       "3  6876617 HOSPITAL DA CRIANCA DE BRASILIA JOSE A...  BRASILIA, DF, BR    \n",
       "4  0010456 HBDF HOSPITAL DE BASE DO DISTRITO FEDERAL  BRASILIA, DF, BR    \n",
       "\n",
       "         Complexidade Carater atendimento  \\\n",
       "0  Média complexidade             Eletivo   \n",
       "1  Média complexidade            Urgência   \n",
       "2  Média complexidade            Urgência   \n",
       "3  Média complexidade             Eletivo   \n",
       "4   Alta complexidade             Eletivo   \n",
       "\n",
       "                              Sub Grupo Procedimento  \\\n",
       "0                   Sub Grupo: 15 - Outras cirurgias   \n",
       "1  Sub Grupo: 03 - Cirurgia do sistema nervoso ce...   \n",
       "2                   Sub Grupo: 15 - Outras cirurgias   \n",
       "3  Sub Grupo: 07 - Cirurgia do aparelho digestivo...   \n",
       "4              Sub Grupo: 16 - Cirurgia em oncologia   \n",
       "\n",
       "                                       Procedimento  \n",
       "0                 TRATAMENTO C/ CIRURGIAS MULTIPLAS  \n",
       "1  DERIVACAO VENTRICULAR EXTERNAR-SUBGALEAL EXTERNA  \n",
       "2                 TRATAMENTO C/ CIRURGIAS MULTIPLAS  \n",
       "3                           HERNIOPLASTIA UMBILICAL  \n",
       "4   RESSECCAO DE TUMOR DE PARTES MOLES EM ONCOLOGIA  "
      ]
     },
     "execution_count": 4,
     "metadata": {},
     "output_type": "execute_result"
    }
   ],
   "source": [
    "df=pd.read_csv('sih-janeiro-2017-cirurgias-eletiva-e-emergencia.csv', sep=';',encoding='cp1252',usecols=[3,6,7,8,12,14])\n",
    "\n",
    "df.columns=['Hospital','Municipio', 'Complexidade', 'Carater atendimento','Sub Grupo Procedimento', 'Procedimento']\n",
    "\n",
    "df.head()"
   ]
  },
  {
   "cell_type": "code",
   "execution_count": 5,
   "metadata": {},
   "outputs": [
    {
     "data": {
      "text/html": [
       "<div>\n",
       "<style scoped>\n",
       "    .dataframe tbody tr th:only-of-type {\n",
       "        vertical-align: middle;\n",
       "    }\n",
       "\n",
       "    .dataframe tbody tr th {\n",
       "        vertical-align: top;\n",
       "    }\n",
       "\n",
       "    .dataframe thead th {\n",
       "        text-align: right;\n",
       "    }\n",
       "</style>\n",
       "<table border=\"1\" class=\"dataframe\">\n",
       "  <thead>\n",
       "    <tr style=\"text-align: right;\">\n",
       "      <th></th>\n",
       "      <th>Hospital</th>\n",
       "      <th>Municipio</th>\n",
       "      <th>Complexidade</th>\n",
       "      <th>Carater atendimento</th>\n",
       "      <th>Sub Grupo Procedimento</th>\n",
       "      <th>Procedimento</th>\n",
       "    </tr>\n",
       "  </thead>\n",
       "  <tbody>\n",
       "    <tr>\n",
       "      <th>count</th>\n",
       "      <td>4862</td>\n",
       "      <td>4862</td>\n",
       "      <td>4862</td>\n",
       "      <td>4862</td>\n",
       "      <td>4862</td>\n",
       "      <td>4862</td>\n",
       "    </tr>\n",
       "    <tr>\n",
       "      <th>unique</th>\n",
       "      <td>16</td>\n",
       "      <td>11</td>\n",
       "      <td>2</td>\n",
       "      <td>4</td>\n",
       "      <td>16</td>\n",
       "      <td>495</td>\n",
       "    </tr>\n",
       "    <tr>\n",
       "      <th>top</th>\n",
       "      <td>0010456 HBDF HOSPITAL DE BASE DO DISTRITO FEDERAL</td>\n",
       "      <td>BRASILIA, DF, BR</td>\n",
       "      <td>Média complexidade</td>\n",
       "      <td>Urgência</td>\n",
       "      <td>Sub Grupo: 11 - Cirurgia obstétrica</td>\n",
       "      <td>PARTO CESARIANO</td>\n",
       "    </tr>\n",
       "    <tr>\n",
       "      <th>freq</th>\n",
       "      <td>735</td>\n",
       "      <td>1923</td>\n",
       "      <td>4353</td>\n",
       "      <td>3794</td>\n",
       "      <td>1539</td>\n",
       "      <td>1060</td>\n",
       "    </tr>\n",
       "  </tbody>\n",
       "</table>\n",
       "</div>"
      ],
      "text/plain": [
       "                                                 Hospital          Municipio  \\\n",
       "count                                                4862               4862   \n",
       "unique                                                 16                 11   \n",
       "top     0010456 HBDF HOSPITAL DE BASE DO DISTRITO FEDERAL  BRASILIA, DF, BR    \n",
       "freq                                                  735               1923   \n",
       "\n",
       "              Complexidade Carater atendimento  \\\n",
       "count                 4862                4862   \n",
       "unique                   2                   4   \n",
       "top     Média complexidade            Urgência   \n",
       "freq                  4353                3794   \n",
       "\n",
       "                     Sub Grupo Procedimento     Procedimento  \n",
       "count                                  4862             4862  \n",
       "unique                                   16              495  \n",
       "top     Sub Grupo: 11 - Cirurgia obstétrica  PARTO CESARIANO  \n",
       "freq                                   1539             1060  "
      ]
     },
     "execution_count": 5,
     "metadata": {},
     "output_type": "execute_result"
    }
   ],
   "source": [
    "df.describe()"
   ]
  },
  {
   "cell_type": "code",
   "execution_count": 6,
   "metadata": {},
   "outputs": [
    {
     "data": {
      "text/plain": [
       "array(['6876617 HOSPITAL DA CRIANCA DE BRASILIA JOSE ALENCAR HCB',\n",
       "       '0010456 HBDF HOSPITAL DE BASE DO DISTRITO FEDERAL',\n",
       "       '0010499 HRT HOSPITAL REGIONAL DE TAGUATINGA', '0010545 HRBZ',\n",
       "       '0010480 HOSPITAL REGIONAL DE CEILANDIA',\n",
       "       '3276678 INSTITUTO DE CARDIOLOGIA DO DISTRITO FEDERAL',\n",
       "       '0010472 HRG', '0010510 HOSPITAL UNIVERSITARIO DE BRASILIA',\n",
       "       '0010529 HRPL',\n",
       "       '0010537 HOSPITAL MATERNO INFANTIL DE BRASILIA HMIB',\n",
       "       '3055450 CBV CENTRO BRASILEIRO DA VISAO',\n",
       "       '2672197 HRSAM HOSPITAL REGIONAL DE SAMAMBAIA', '0010502 HRS',\n",
       "       '5717515 HRSM', '2645157 HRPA', '0010464 HRAN'], dtype=object)"
      ]
     },
     "execution_count": 6,
     "metadata": {},
     "output_type": "execute_result"
    }
   ],
   "source": [
    "df['Hospital'].unique()"
   ]
  },
  {
   "cell_type": "code",
   "execution_count": 7,
   "metadata": {},
   "outputs": [
    {
     "data": {
      "text/plain": [
       "0010456 HBDF HOSPITAL DE BASE DO DISTRITO FEDERAL           735\n",
       "0010472 HRG                                                 555\n",
       "0010480 HOSPITAL REGIONAL DE CEILANDIA                      461\n",
       "0010464 HRAN                                                432\n",
       "0010499 HRT HOSPITAL REGIONAL DE TAGUATINGA                 373\n",
       "0010510 HOSPITAL UNIVERSITARIO DE BRASILIA                  350\n",
       "2645157 HRPA                                                327\n",
       "0010537 HOSPITAL MATERNO INFANTIL DE BRASILIA HMIB          298\n",
       "5717515 HRSM                                                281\n",
       "0010529 HRPL                                                256\n",
       "0010502 HRS                                                 225\n",
       "2672197 HRSAM HOSPITAL REGIONAL DE SAMAMBAIA                195\n",
       "3276678 INSTITUTO DE CARDIOLOGIA DO DISTRITO FEDERAL        191\n",
       "0010545 HRBZ                                                 75\n",
       "6876617 HOSPITAL DA CRIANCA DE BRASILIA JOSE ALENCAR HCB     74\n",
       "3055450 CBV CENTRO BRASILEIRO DA VISAO                       34\n",
       "Name: Hospital, dtype: int64"
      ]
     },
     "execution_count": 7,
     "metadata": {},
     "output_type": "execute_result"
    }
   ],
   "source": [
    "#Quantas cirurgias realizadas por Hospital\n",
    "df['Hospital'].value_counts()"
   ]
  },
  {
   "cell_type": "code",
   "execution_count": 8,
   "metadata": {},
   "outputs": [
    {
     "data": {
      "text/plain": [
       "Sub Grupo: 11 - Cirurgia obstétrica                                                   1539\n",
       "Sub Grupo: 07 - Cirurgia do aparelho digestivo, orgãos anexos e parede abdominal       893\n",
       "Sub Grupo: 08 - Cirurgia do sistema osteomuscular                                      651\n",
       "Sub Grupo: 09 - Cirurgia do aparelho geniturinário                                     474\n",
       "Sub Grupo: 06 - Cirurgia do aparelho circulatório                                      299\n",
       "Sub Grupo: 15 - Outras cirurgias                                                       223\n",
       "Sub Grupo: 04 - Cirurgia das vias aéreas superiores, da cabeça e do pescoço            145\n",
       "Sub Grupo: 03 - Cirurgia do sistema nervoso central e periférico                       141\n",
       "Sub Grupo: 16 - Cirurgia em oncologia                                                  110\n",
       "Sub Grupo: 05 - Cirurgia do aparelho da visão                                           98\n",
       "Sub Grupo: 12 - Cirurgia torácica                                                       92\n",
       "Sub Grupo: 01 - Pequenas cirurgias e cirurgias de pele, tecido subcutâneo e mucosa      77\n",
       "Sub Grupo: 10 - Cirurgia de mama                                                        68\n",
       "Sub Grupo: 13 - Cirurgia reparadora                                                     40\n",
       "Sub Grupo: 14 - Cirurgia oro-facial                                                      7\n",
       "Sub Grupo: 02 - Cirurgia de glândulas endócrinas                                         5\n",
       "Name: Sub Grupo Procedimento, dtype: int64"
      ]
     },
     "execution_count": 8,
     "metadata": {},
     "output_type": "execute_result"
    }
   ],
   "source": [
    "#Quantas cirurgias por Sub grupo de procedimento\n",
    "df['Sub Grupo Procedimento'].value_counts()"
   ]
  },
  {
   "cell_type": "code",
   "execution_count": 22,
   "metadata": {},
   "outputs": [
    {
     "data": {
      "image/png": "[encoded data removed]",
      "text/plain": [
       "<Figure size 432x288 with 1 Axes>"
      ]
     },
     "metadata": {
      "needs_background": "light"
     },
     "output_type": "display_data"
    }
   ],
   "source": [
    "sns.histplot(y=df['Sub Grupo Procedimento'],data=df)\n",
    "plt.show()"
   ]
  },
  {
   "cell_type": "code",
   "execution_count": 23,
   "metadata": {},
   "outputs": [
    {
     "data": {
      "text/html": [
       "<div>\n",
       "<style scoped>\n",
       "    .dataframe tbody tr th:only-of-type {\n",
       "        vertical-align: middle;\n",
       "    }\n",
       "\n",
       "    .dataframe tbody tr th {\n",
       "        vertical-align: top;\n",
       "    }\n",
       "\n",
       "    .dataframe thead th {\n",
       "        text-align: right;\n",
       "    }\n",
       "</style>\n",
       "<table border=\"1\" class=\"dataframe\">\n",
       "  <thead>\n",
       "    <tr style=\"text-align: right;\">\n",
       "      <th></th>\n",
       "      <th>Hospital</th>\n",
       "      <th>Municipio</th>\n",
       "      <th>Complexidade</th>\n",
       "      <th>Carater atendimento</th>\n",
       "      <th>Sub Grupo Procedimento</th>\n",
       "      <th>Procedimento</th>\n",
       "    </tr>\n",
       "  </thead>\n",
       "  <tbody>\n",
       "    <tr>\n",
       "      <th>1</th>\n",
       "      <td>0010456 HBDF HOSPITAL DE BASE DO DISTRITO FEDERAL</td>\n",
       "      <td>BRASILIA, DF, BR</td>\n",
       "      <td>Média complexidade</td>\n",
       "      <td>Urgência</td>\n",
       "      <td>Sub Grupo: 03 - Cirurgia do sistema nervoso ce...</td>\n",
       "      <td>DERIVACAO VENTRICULAR EXTERNAR-SUBGALEAL EXTERNA</td>\n",
       "    </tr>\n",
       "    <tr>\n",
       "      <th>2</th>\n",
       "      <td>0010456 HBDF HOSPITAL DE BASE DO DISTRITO FEDERAL</td>\n",
       "      <td>BRASILIA, DF, BR</td>\n",
       "      <td>Média complexidade</td>\n",
       "      <td>Urgência</td>\n",
       "      <td>Sub Grupo: 15 - Outras cirurgias</td>\n",
       "      <td>TRATAMENTO C/ CIRURGIAS MULTIPLAS</td>\n",
       "    </tr>\n",
       "    <tr>\n",
       "      <th>4</th>\n",
       "      <td>0010456 HBDF HOSPITAL DE BASE DO DISTRITO FEDERAL</td>\n",
       "      <td>BRASILIA, DF, BR</td>\n",
       "      <td>Alta complexidade</td>\n",
       "      <td>Eletivo</td>\n",
       "      <td>Sub Grupo: 16 - Cirurgia em oncologia</td>\n",
       "      <td>RESSECCAO DE TUMOR DE PARTES MOLES EM ONCOLOGIA</td>\n",
       "    </tr>\n",
       "    <tr>\n",
       "      <th>5</th>\n",
       "      <td>0010456 HBDF HOSPITAL DE BASE DO DISTRITO FEDERAL</td>\n",
       "      <td>BRASILIA, DF, BR</td>\n",
       "      <td>Alta complexidade</td>\n",
       "      <td>Eletivo</td>\n",
       "      <td>Sub Grupo: 06 - Cirurgia do aparelho circulatório</td>\n",
       "      <td>IMPLANTAÇÃO DE CATETER DE LONGA PERMANÊNCIA SE...</td>\n",
       "    </tr>\n",
       "    <tr>\n",
       "      <th>6</th>\n",
       "      <td>0010456 HBDF HOSPITAL DE BASE DO DISTRITO FEDERAL</td>\n",
       "      <td>BRASILIA, DF, BR</td>\n",
       "      <td>Média complexidade</td>\n",
       "      <td>Urgência</td>\n",
       "      <td>Sub Grupo: 06 - Cirurgia do aparelho circulatório</td>\n",
       "      <td>TRATAMENTO CIRURGICO DE LESOES VASCULARES TRAU...</td>\n",
       "    </tr>\n",
       "  </tbody>\n",
       "</table>\n",
       "</div>"
      ],
      "text/plain": [
       "                                            Hospital          Municipio  \\\n",
       "1  0010456 HBDF HOSPITAL DE BASE DO DISTRITO FEDERAL  BRASILIA, DF, BR    \n",
       "2  0010456 HBDF HOSPITAL DE BASE DO DISTRITO FEDERAL  BRASILIA, DF, BR    \n",
       "4  0010456 HBDF HOSPITAL DE BASE DO DISTRITO FEDERAL  BRASILIA, DF, BR    \n",
       "5  0010456 HBDF HOSPITAL DE BASE DO DISTRITO FEDERAL  BRASILIA, DF, BR    \n",
       "6  0010456 HBDF HOSPITAL DE BASE DO DISTRITO FEDERAL  BRASILIA, DF, BR    \n",
       "\n",
       "         Complexidade Carater atendimento  \\\n",
       "1  Média complexidade            Urgência   \n",
       "2  Média complexidade            Urgência   \n",
       "4   Alta complexidade             Eletivo   \n",
       "5   Alta complexidade             Eletivo   \n",
       "6  Média complexidade            Urgência   \n",
       "\n",
       "                              Sub Grupo Procedimento  \\\n",
       "1  Sub Grupo: 03 - Cirurgia do sistema nervoso ce...   \n",
       "2                   Sub Grupo: 15 - Outras cirurgias   \n",
       "4              Sub Grupo: 16 - Cirurgia em oncologia   \n",
       "5  Sub Grupo: 06 - Cirurgia do aparelho circulatório   \n",
       "6  Sub Grupo: 06 - Cirurgia do aparelho circulatório   \n",
       "\n",
       "                                        Procedimento  \n",
       "1   DERIVACAO VENTRICULAR EXTERNAR-SUBGALEAL EXTERNA  \n",
       "2                  TRATAMENTO C/ CIRURGIAS MULTIPLAS  \n",
       "4    RESSECCAO DE TUMOR DE PARTES MOLES EM ONCOLOGIA  \n",
       "5  IMPLANTAÇÃO DE CATETER DE LONGA PERMANÊNCIA SE...  \n",
       "6  TRATAMENTO CIRURGICO DE LESOES VASCULARES TRAU...  "
      ]
     },
     "execution_count": 23,
     "metadata": {},
     "output_type": "execute_result"
    }
   ],
   "source": [
    "df_hospbase=df[df['Hospital']=='0010456 HBDF HOSPITAL DE BASE DO DISTRITO FEDERAL']\n",
    "df_hospbase.head()"
   ]
  },
  {
   "cell_type": "code",
   "execution_count": 24,
   "metadata": {},
   "outputs": [
    {
     "data": {
      "text/html": [
       "<div>\n",
       "<style scoped>\n",
       "    .dataframe tbody tr th:only-of-type {\n",
       "        vertical-align: middle;\n",
       "    }\n",
       "\n",
       "    .dataframe tbody tr th {\n",
       "        vertical-align: top;\n",
       "    }\n",
       "\n",
       "    .dataframe thead th {\n",
       "        text-align: right;\n",
       "    }\n",
       "</style>\n",
       "<table border=\"1\" class=\"dataframe\">\n",
       "  <thead>\n",
       "    <tr style=\"text-align: right;\">\n",
       "      <th></th>\n",
       "      <th>Hospital</th>\n",
       "      <th>Municipio</th>\n",
       "      <th>Complexidade</th>\n",
       "      <th>Carater atendimento</th>\n",
       "      <th>Sub Grupo Procedimento</th>\n",
       "      <th>Procedimento</th>\n",
       "    </tr>\n",
       "  </thead>\n",
       "  <tbody>\n",
       "    <tr>\n",
       "      <th>2369</th>\n",
       "      <td>0010456 HBDF HOSPITAL DE BASE DO DISTRITO FEDERAL</td>\n",
       "      <td>BRASILIA, DF, BR</td>\n",
       "      <td>Média complexidade</td>\n",
       "      <td>Urgência</td>\n",
       "      <td>Sub Grupo: 07 - Cirurgia do aparelho digestivo...</td>\n",
       "      <td>COLECISTECTOMIA</td>\n",
       "    </tr>\n",
       "    <tr>\n",
       "      <th>2370</th>\n",
       "      <td>0010456 HBDF HOSPITAL DE BASE DO DISTRITO FEDERAL</td>\n",
       "      <td>BRASILIA, DF, BR</td>\n",
       "      <td>Média complexidade</td>\n",
       "      <td>Eletivo</td>\n",
       "      <td>Sub Grupo: 03 - Cirurgia do sistema nervoso ce...</td>\n",
       "      <td>DERIVACAO VENTRICULAR PARA PERITONEO / ATRIO /...</td>\n",
       "    </tr>\n",
       "    <tr>\n",
       "      <th>2371</th>\n",
       "      <td>0010456 HBDF HOSPITAL DE BASE DO DISTRITO FEDERAL</td>\n",
       "      <td>BRASILIA, DF, BR</td>\n",
       "      <td>Alta complexidade</td>\n",
       "      <td>Eletivo</td>\n",
       "      <td>Sub Grupo: 16 - Cirurgia em oncologia</td>\n",
       "      <td>MASTECTOMIA RADICAL C/ LINFADENECTOMIA AXILAR ...</td>\n",
       "    </tr>\n",
       "    <tr>\n",
       "      <th>2372</th>\n",
       "      <td>0010456 HBDF HOSPITAL DE BASE DO DISTRITO FEDERAL</td>\n",
       "      <td>BRASILIA, DF, BR</td>\n",
       "      <td>Alta complexidade</td>\n",
       "      <td>Eletivo</td>\n",
       "      <td>Sub Grupo: 16 - Cirurgia em oncologia</td>\n",
       "      <td>SEGMENTECTOMIA/QUADRANTECTOMIA/SETORECTOMIA DE...</td>\n",
       "    </tr>\n",
       "    <tr>\n",
       "      <th>2373</th>\n",
       "      <td>0010456 HBDF HOSPITAL DE BASE DO DISTRITO FEDERAL</td>\n",
       "      <td>BRASILIA, DF, BR</td>\n",
       "      <td>Alta complexidade</td>\n",
       "      <td>Eletivo</td>\n",
       "      <td>Sub Grupo: 06 - Cirurgia do aparelho circulatório</td>\n",
       "      <td>ESTUDO ELETROFISIOLOGICO TERAPEUTICO II (ABLAC...</td>\n",
       "    </tr>\n",
       "  </tbody>\n",
       "</table>\n",
       "</div>"
      ],
      "text/plain": [
       "                                               Hospital          Municipio  \\\n",
       "2369  0010456 HBDF HOSPITAL DE BASE DO DISTRITO FEDERAL  BRASILIA, DF, BR    \n",
       "2370  0010456 HBDF HOSPITAL DE BASE DO DISTRITO FEDERAL  BRASILIA, DF, BR    \n",
       "2371  0010456 HBDF HOSPITAL DE BASE DO DISTRITO FEDERAL  BRASILIA, DF, BR    \n",
       "2372  0010456 HBDF HOSPITAL DE BASE DO DISTRITO FEDERAL  BRASILIA, DF, BR    \n",
       "2373  0010456 HBDF HOSPITAL DE BASE DO DISTRITO FEDERAL  BRASILIA, DF, BR    \n",
       "\n",
       "            Complexidade Carater atendimento  \\\n",
       "2369  Média complexidade            Urgência   \n",
       "2370  Média complexidade             Eletivo   \n",
       "2371   Alta complexidade             Eletivo   \n",
       "2372   Alta complexidade             Eletivo   \n",
       "2373   Alta complexidade             Eletivo   \n",
       "\n",
       "                                 Sub Grupo Procedimento  \\\n",
       "2369  Sub Grupo: 07 - Cirurgia do aparelho digestivo...   \n",
       "2370  Sub Grupo: 03 - Cirurgia do sistema nervoso ce...   \n",
       "2371              Sub Grupo: 16 - Cirurgia em oncologia   \n",
       "2372              Sub Grupo: 16 - Cirurgia em oncologia   \n",
       "2373  Sub Grupo: 06 - Cirurgia do aparelho circulatório   \n",
       "\n",
       "                                           Procedimento  \n",
       "2369                                    COLECISTECTOMIA  \n",
       "2370  DERIVACAO VENTRICULAR PARA PERITONEO / ATRIO /...  \n",
       "2371  MASTECTOMIA RADICAL C/ LINFADENECTOMIA AXILAR ...  \n",
       "2372  SEGMENTECTOMIA/QUADRANTECTOMIA/SETORECTOMIA DE...  \n",
       "2373  ESTUDO ELETROFISIOLOGICO TERAPEUTICO II (ABLAC...  "
      ]
     },
     "execution_count": 24,
     "metadata": {},
     "output_type": "execute_result"
    }
   ],
   "source": [
    "df_hospbase.tail()"
   ]
  },
  {
   "cell_type": "code",
   "execution_count": 26,
   "metadata": {},
   "outputs": [
    {
     "data": {
      "text/html": [
       "<div>\n",
       "<style scoped>\n",
       "    .dataframe tbody tr th:only-of-type {\n",
       "        vertical-align: middle;\n",
       "    }\n",
       "\n",
       "    .dataframe tbody tr th {\n",
       "        vertical-align: top;\n",
       "    }\n",
       "\n",
       "    .dataframe thead th {\n",
       "        text-align: right;\n",
       "    }\n",
       "</style>\n",
       "<table border=\"1\" class=\"dataframe\">\n",
       "  <thead>\n",
       "    <tr style=\"text-align: right;\">\n",
       "      <th></th>\n",
       "      <th>Hospital</th>\n",
       "      <th>Municipio</th>\n",
       "      <th>Complexidade</th>\n",
       "      <th>Carater atendimento</th>\n",
       "      <th>Sub Grupo Procedimento</th>\n",
       "      <th>Procedimento</th>\n",
       "    </tr>\n",
       "  </thead>\n",
       "  <tbody>\n",
       "    <tr>\n",
       "      <th>2051</th>\n",
       "      <td>0010456 HBDF HOSPITAL DE BASE DO DISTRITO FEDERAL</td>\n",
       "      <td>BRASILIA, DF, BR</td>\n",
       "      <td>Média complexidade</td>\n",
       "      <td>Urgência</td>\n",
       "      <td>Sub Grupo: 15 - Outras cirurgias</td>\n",
       "      <td>TRATAMENTO C/ CIRURGIAS MULTIPLAS</td>\n",
       "    </tr>\n",
       "    <tr>\n",
       "      <th>116</th>\n",
       "      <td>0010456 HBDF HOSPITAL DE BASE DO DISTRITO FEDERAL</td>\n",
       "      <td>BRASILIA, DF, BR</td>\n",
       "      <td>Média complexidade</td>\n",
       "      <td>Urgência</td>\n",
       "      <td>Sub Grupo: 09 - Cirurgia do aparelho geniturin...</td>\n",
       "      <td>ORQUIECTOMIA UNILATERAL</td>\n",
       "    </tr>\n",
       "    <tr>\n",
       "      <th>853</th>\n",
       "      <td>0010456 HBDF HOSPITAL DE BASE DO DISTRITO FEDERAL</td>\n",
       "      <td>BRASILIA, DF, BR</td>\n",
       "      <td>Média complexidade</td>\n",
       "      <td>Eletivo</td>\n",
       "      <td>Sub Grupo: 07 - Cirurgia do aparelho digestivo...</td>\n",
       "      <td>COLOSTOMIA</td>\n",
       "    </tr>\n",
       "    <tr>\n",
       "      <th>1691</th>\n",
       "      <td>0010456 HBDF HOSPITAL DE BASE DO DISTRITO FEDERAL</td>\n",
       "      <td>BRASILIA, DF, BR</td>\n",
       "      <td>Alta complexidade</td>\n",
       "      <td>Eletivo</td>\n",
       "      <td>Sub Grupo: 16 - Cirurgia em oncologia</td>\n",
       "      <td>LARINGECTOMIA TOTAL EM ONCOLOGIA</td>\n",
       "    </tr>\n",
       "    <tr>\n",
       "      <th>1846</th>\n",
       "      <td>0010456 HBDF HOSPITAL DE BASE DO DISTRITO FEDERAL</td>\n",
       "      <td>BRASILIA, DF, BR</td>\n",
       "      <td>Alta complexidade</td>\n",
       "      <td>Eletivo</td>\n",
       "      <td>Sub Grupo: 06 - Cirurgia do aparelho circulatório</td>\n",
       "      <td>ANGIOPLASTIA INTRALUMINAL DE VASOS DAS EXTREMI...</td>\n",
       "    </tr>\n",
       "  </tbody>\n",
       "</table>\n",
       "</div>"
      ],
      "text/plain": [
       "                                               Hospital          Municipio  \\\n",
       "2051  0010456 HBDF HOSPITAL DE BASE DO DISTRITO FEDERAL  BRASILIA, DF, BR    \n",
       "116   0010456 HBDF HOSPITAL DE BASE DO DISTRITO FEDERAL  BRASILIA, DF, BR    \n",
       "853   0010456 HBDF HOSPITAL DE BASE DO DISTRITO FEDERAL  BRASILIA, DF, BR    \n",
       "1691  0010456 HBDF HOSPITAL DE BASE DO DISTRITO FEDERAL  BRASILIA, DF, BR    \n",
       "1846  0010456 HBDF HOSPITAL DE BASE DO DISTRITO FEDERAL  BRASILIA, DF, BR    \n",
       "\n",
       "            Complexidade Carater atendimento  \\\n",
       "2051  Média complexidade            Urgência   \n",
       "116   Média complexidade            Urgência   \n",
       "853   Média complexidade             Eletivo   \n",
       "1691   Alta complexidade             Eletivo   \n",
       "1846   Alta complexidade             Eletivo   \n",
       "\n",
       "                                 Sub Grupo Procedimento  \\\n",
       "2051                   Sub Grupo: 15 - Outras cirurgias   \n",
       "116   Sub Grupo: 09 - Cirurgia do aparelho geniturin...   \n",
       "853   Sub Grupo: 07 - Cirurgia do aparelho digestivo...   \n",
       "1691              Sub Grupo: 16 - Cirurgia em oncologia   \n",
       "1846  Sub Grupo: 06 - Cirurgia do aparelho circulatório   \n",
       "\n",
       "                                           Procedimento  \n",
       "2051                  TRATAMENTO C/ CIRURGIAS MULTIPLAS  \n",
       "116                             ORQUIECTOMIA UNILATERAL  \n",
       "853                                          COLOSTOMIA  \n",
       "1691                   LARINGECTOMIA TOTAL EM ONCOLOGIA  \n",
       "1846  ANGIOPLASTIA INTRALUMINAL DE VASOS DAS EXTREMI...  "
      ]
     },
     "execution_count": 26,
     "metadata": {},
     "output_type": "execute_result"
    }
   ],
   "source": [
    "df_hospbase.sample(5)"
   ]
  },
  {
   "cell_type": "code",
   "execution_count": 30,
   "metadata": {},
   "outputs": [
    {
     "data": {
      "text/plain": [
       "Hospital                  33\n",
       "Municipio                 33\n",
       "Complexidade              33\n",
       "Carater atendimento       33\n",
       "Sub Grupo Procedimento    33\n",
       "Procedimento              33\n",
       "dtype: int64"
      ]
     },
     "execution_count": 30,
     "metadata": {},
     "output_type": "execute_result"
    }
   ],
   "source": [
    "df_hospbase[df_hospbase['Procedimento'].str.contains('AMPUTA')].count()"
   ]
  },
  {
   "cell_type": "code",
   "execution_count": 31,
   "metadata": {},
   "outputs": [
    {
     "data": {
      "text/html": [
       "<div>\n",
       "<style scoped>\n",
       "    .dataframe tbody tr th:only-of-type {\n",
       "        vertical-align: middle;\n",
       "    }\n",
       "\n",
       "    .dataframe tbody tr th {\n",
       "        vertical-align: top;\n",
       "    }\n",
       "\n",
       "    .dataframe thead th {\n",
       "        text-align: right;\n",
       "    }\n",
       "</style>\n",
       "<table border=\"1\" class=\"dataframe\">\n",
       "  <thead>\n",
       "    <tr style=\"text-align: right;\">\n",
       "      <th></th>\n",
       "      <th>Hospital</th>\n",
       "      <th>Municipio</th>\n",
       "      <th>Complexidade</th>\n",
       "      <th>Carater atendimento</th>\n",
       "      <th>Sub Grupo Procedimento</th>\n",
       "      <th>Procedimento</th>\n",
       "    </tr>\n",
       "  </thead>\n",
       "  <tbody>\n",
       "    <tr>\n",
       "      <th>130</th>\n",
       "      <td>0010545 HRBZ</td>\n",
       "      <td>BRAZLANDIA, DF, BR</td>\n",
       "      <td>Média complexidade</td>\n",
       "      <td>Urgência</td>\n",
       "      <td>Sub Grupo: 11 - Cirurgia obstétrica</td>\n",
       "      <td>PARTO CESARIANO</td>\n",
       "    </tr>\n",
       "    <tr>\n",
       "      <th>131</th>\n",
       "      <td>0010545 HRBZ</td>\n",
       "      <td>BRAZLANDIA, DF, BR</td>\n",
       "      <td>Média complexidade</td>\n",
       "      <td>Urgência</td>\n",
       "      <td>Sub Grupo: 11 - Cirurgia obstétrica</td>\n",
       "      <td>PARTO CESARIANO</td>\n",
       "    </tr>\n",
       "    <tr>\n",
       "      <th>132</th>\n",
       "      <td>0010545 HRBZ</td>\n",
       "      <td>BRAZLANDIA, DF, BR</td>\n",
       "      <td>Média complexidade</td>\n",
       "      <td>Urgência</td>\n",
       "      <td>Sub Grupo: 11 - Cirurgia obstétrica</td>\n",
       "      <td>PARTO CESARIANO</td>\n",
       "    </tr>\n",
       "    <tr>\n",
       "      <th>133</th>\n",
       "      <td>0010545 HRBZ</td>\n",
       "      <td>BRAZLANDIA, DF, BR</td>\n",
       "      <td>Média complexidade</td>\n",
       "      <td>Urgência</td>\n",
       "      <td>Sub Grupo: 11 - Cirurgia obstétrica</td>\n",
       "      <td>PARTO CESARIANO</td>\n",
       "    </tr>\n",
       "    <tr>\n",
       "      <th>141</th>\n",
       "      <td>0010545 HRBZ</td>\n",
       "      <td>BRAZLANDIA, DF, BR</td>\n",
       "      <td>Média complexidade</td>\n",
       "      <td>Urgência</td>\n",
       "      <td>Sub Grupo: 11 - Cirurgia obstétrica</td>\n",
       "      <td>PARTO CESARIANO</td>\n",
       "    </tr>\n",
       "  </tbody>\n",
       "</table>\n",
       "</div>"
      ],
      "text/plain": [
       "         Hospital            Municipio        Complexidade  \\\n",
       "130  0010545 HRBZ  BRAZLANDIA, DF, BR   Média complexidade   \n",
       "131  0010545 HRBZ  BRAZLANDIA, DF, BR   Média complexidade   \n",
       "132  0010545 HRBZ  BRAZLANDIA, DF, BR   Média complexidade   \n",
       "133  0010545 HRBZ  BRAZLANDIA, DF, BR   Média complexidade   \n",
       "141  0010545 HRBZ  BRAZLANDIA, DF, BR   Média complexidade   \n",
       "\n",
       "    Carater atendimento               Sub Grupo Procedimento     Procedimento  \n",
       "130            Urgência  Sub Grupo: 11 - Cirurgia obstétrica  PARTO CESARIANO  \n",
       "131            Urgência  Sub Grupo: 11 - Cirurgia obstétrica  PARTO CESARIANO  \n",
       "132            Urgência  Sub Grupo: 11 - Cirurgia obstétrica  PARTO CESARIANO  \n",
       "133            Urgência  Sub Grupo: 11 - Cirurgia obstétrica  PARTO CESARIANO  \n",
       "141            Urgência  Sub Grupo: 11 - Cirurgia obstétrica  PARTO CESARIANO  "
      ]
     },
     "execution_count": 31,
     "metadata": {},
     "output_type": "execute_result"
    }
   ],
   "source": [
    "df_parto_cesariano=df[df['Procedimento']=='PARTO CESARIANO']\n",
    "df_parto_cesariano.head()"
   ]
  },
  {
   "cell_type": "code",
   "execution_count": 32,
   "metadata": {},
   "outputs": [
    {
     "data": {
      "text/plain": [
       "0010480 HOSPITAL REGIONAL DE CEILANDIA                165\n",
       "2645157 HRPA                                          123\n",
       "5717515 HRSM                                          110\n",
       "0010537 HOSPITAL MATERNO INFANTIL DE BRASILIA HMIB     93\n",
       "0010502 HRS                                            92\n",
       "2672197 HRSAM HOSPITAL REGIONAL DE SAMAMBAIA           92\n",
       "0010464 HRAN                                           88\n",
       "0010529 HRPL                                           79\n",
       "0010499 HRT HOSPITAL REGIONAL DE TAGUATINGA            74\n",
       "0010510 HOSPITAL UNIVERSITARIO DE BRASILIA             63\n",
       "0010472 HRG                                            47\n",
       "0010545 HRBZ                                           34\n",
       "Name: Hospital, dtype: int64"
      ]
     },
     "execution_count": 32,
     "metadata": {},
     "output_type": "execute_result"
    }
   ],
   "source": [
    "df_parto_cesariano['Hospital'].value_counts()"
   ]
  },
  {
   "cell_type": "code",
   "execution_count": 33,
   "metadata": {},
   "outputs": [
    {
     "data": {
      "text/plain": [
       "Urgência    1041\n",
       "Eletivo       19\n",
       "Name: Carater atendimento, dtype: int64"
      ]
     },
     "execution_count": 33,
     "metadata": {},
     "output_type": "execute_result"
    }
   ],
   "source": [
    "df_parto_cesariano['Carater atendimento'].value_counts()"
   ]
  },
  {
   "cell_type": "code",
   "execution_count": 38,
   "metadata": {},
   "outputs": [
    {
     "data": {
      "text/plain": [
       "<AxesSubplot:xlabel='Count', ylabel='Hospital'>"
      ]
     },
     "execution_count": 38,
     "metadata": {},
     "output_type": "execute_result"
    },
    {
     "data": {
      "image/png": "[encoded data removed]",
      "text/plain": [
       "<Figure size 432x288 with 1 Axes>"
      ]
     },
     "metadata": {
      "needs_background": "light"
     },
     "output_type": "display_data"
    }
   ],
   "source": [
    "sns.histplot(data=df_parto_cesariano,y='Hospital',hue='Carater atendimento')"
   ]
  },
  {
   "cell_type": "code",
   "execution_count": null,
   "metadata": {},
   "outputs": [],
   "source": []
  }
 ],
 "metadata": {
  "kernelspec": {
   "display_name": "Python 3",
   "language": "python",
   "name": "python3"
  },
  "language_info": {
   "codemirror_mode": {
    "name": "ipython",
    "version": 3
   },
   "file_extension": ".py",
   "mimetype": "text/x-python",
   "name": "python",
   "nbconvert_exporter": "python",
   "pygments_lexer": "ipython3",
   "version": "3.8.5"
  }
 },
 "nbformat": 4,
 "nbformat_minor": 4
}
