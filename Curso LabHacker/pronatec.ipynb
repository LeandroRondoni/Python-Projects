{
 "cells": [
  {
   "cell_type": "code",
   "execution_count": 1,
   "metadata": {},
   "outputs": [],
   "source": [
    "import pandas as pd\n",
    "import seaborn as sns\n",
    "import matplotlib.pyplot as plt"
   ]
  },
  {
   "cell_type": "code",
   "execution_count": 3,
   "metadata": {},
   "outputs": [
    {
     "data": {
      "text/html": [
       "<div>\n",
       "<style scoped>\n",
       "    .dataframe tbody tr th:only-of-type {\n",
       "        vertical-align: middle;\n",
       "    }\n",
       "\n",
       "    .dataframe tbody tr th {\n",
       "        vertical-align: top;\n",
       "    }\n",
       "\n",
       "    .dataframe thead th {\n",
       "        text-align: right;\n",
       "    }\n",
       "</style>\n",
       "<table border=\"1\" class=\"dataframe\">\n",
       "  <thead>\n",
       "    <tr style=\"text-align: right;\">\n",
       "      <th></th>\n",
       "      <th>SIGLA_INSTITUICAO</th>\n",
       "      <th>NOME_UNIDADE_ENSINO</th>\n",
       "      <th>ANO</th>\n",
       "      <th>SIGLA_UF_UNIDADE_ENSINO</th>\n",
       "      <th>NOME_MUNICIPIO_UNIDADE_ENSINO</th>\n",
       "    </tr>\n",
       "  </thead>\n",
       "  <tbody>\n",
       "    <tr>\n",
       "      <th>0</th>\n",
       "      <td>IFAC</td>\n",
       "      <td>Campus Cruzeiro do Sul</td>\n",
       "      <td>2011</td>\n",
       "      <td>AC</td>\n",
       "      <td>Cruzeiro do Sul</td>\n",
       "    </tr>\n",
       "    <tr>\n",
       "      <th>1</th>\n",
       "      <td>IFAC</td>\n",
       "      <td>Campus Rio Branco</td>\n",
       "      <td>2011</td>\n",
       "      <td>AC</td>\n",
       "      <td>Rio Branco</td>\n",
       "    </tr>\n",
       "    <tr>\n",
       "      <th>2</th>\n",
       "      <td>IFAC</td>\n",
       "      <td>Campus Avançado Rio Branco Baixada do Sol</td>\n",
       "      <td>2014</td>\n",
       "      <td>AC</td>\n",
       "      <td>Rio Branco</td>\n",
       "    </tr>\n",
       "    <tr>\n",
       "      <th>3</th>\n",
       "      <td>IFAC</td>\n",
       "      <td>Campus Sena Madureira</td>\n",
       "      <td>2011</td>\n",
       "      <td>AC</td>\n",
       "      <td>Sena Madureira</td>\n",
       "    </tr>\n",
       "    <tr>\n",
       "      <th>4</th>\n",
       "      <td>IFAC</td>\n",
       "      <td>Campus Tarauac</td>\n",
       "      <td>2013</td>\n",
       "      <td>AC</td>\n",
       "      <td>Tarauac</td>\n",
       "    </tr>\n",
       "  </tbody>\n",
       "</table>\n",
       "</div>"
      ],
      "text/plain": [
       "  SIGLA_INSTITUICAO                        NOME_UNIDADE_ENSINO   ANO  \\\n",
       "0              IFAC                     Campus Cruzeiro do Sul  2011   \n",
       "1              IFAC                          Campus Rio Branco  2011   \n",
       "2              IFAC  Campus Avançado Rio Branco Baixada do Sol  2014   \n",
       "3              IFAC                      Campus Sena Madureira  2011   \n",
       "4              IFAC                            Campus Tarauac   2013   \n",
       "\n",
       "  SIGLA_UF_UNIDADE_ENSINO NOME_MUNICIPIO_UNIDADE_ENSINO  \n",
       "0                      AC               Cruzeiro do Sul  \n",
       "1                      AC                    Rio Branco  \n",
       "2                      AC                    Rio Branco  \n",
       "3                      AC                Sena Madureira  \n",
       "4                      AC                      Tarauac   "
      ]
     },
     "execution_count": 3,
     "metadata": {},
     "output_type": "execute_result"
    }
   ],
   "source": [
    "df=pd.read_csv('PDA_2020_Unidades_Rede_Federal_EPCT.csv',sep=';', encoding='cp1252')\n",
    "df.head()"
   ]
  },
  {
   "cell_type": "code",
   "execution_count": 4,
   "metadata": {},
   "outputs": [
    {
     "data": {
      "text/plain": [
       "SIGLA_INSTITUICAO                665\n",
       "NOME_UNIDADE_ENSINO              665\n",
       "ANO                              665\n",
       "SIGLA_UF_UNIDADE_ENSINO          665\n",
       "NOME_MUNICIPIO_UNIDADE_ENSINO    665\n",
       "dtype: int64"
      ]
     },
     "execution_count": 4,
     "metadata": {},
     "output_type": "execute_result"
    }
   ],
   "source": [
    "df.count()"
   ]
  },
  {
   "cell_type": "code",
   "execution_count": 6,
   "metadata": {},
   "outputs": [
    {
     "data": {
      "text/html": [
       "<div>\n",
       "<style scoped>\n",
       "    .dataframe tbody tr th:only-of-type {\n",
       "        vertical-align: middle;\n",
       "    }\n",
       "\n",
       "    .dataframe tbody tr th {\n",
       "        vertical-align: top;\n",
       "    }\n",
       "\n",
       "    .dataframe thead th {\n",
       "        text-align: right;\n",
       "    }\n",
       "</style>\n",
       "<table border=\"1\" class=\"dataframe\">\n",
       "  <thead>\n",
       "    <tr style=\"text-align: right;\">\n",
       "      <th></th>\n",
       "      <th>ANO</th>\n",
       "    </tr>\n",
       "  </thead>\n",
       "  <tbody>\n",
       "    <tr>\n",
       "      <th>count</th>\n",
       "      <td>665.000000</td>\n",
       "    </tr>\n",
       "    <tr>\n",
       "      <th>mean</th>\n",
       "      <td>2001.210526</td>\n",
       "    </tr>\n",
       "    <tr>\n",
       "      <th>std</th>\n",
       "      <td>24.789127</td>\n",
       "    </tr>\n",
       "    <tr>\n",
       "      <th>min</th>\n",
       "      <td>1909.000000</td>\n",
       "    </tr>\n",
       "    <tr>\n",
       "      <th>25%</th>\n",
       "      <td>2007.000000</td>\n",
       "    </tr>\n",
       "    <tr>\n",
       "      <th>50%</th>\n",
       "      <td>2010.000000</td>\n",
       "    </tr>\n",
       "    <tr>\n",
       "      <th>75%</th>\n",
       "      <td>2014.000000</td>\n",
       "    </tr>\n",
       "    <tr>\n",
       "      <th>max</th>\n",
       "      <td>2020.000000</td>\n",
       "    </tr>\n",
       "  </tbody>\n",
       "</table>\n",
       "</div>"
      ],
      "text/plain": [
       "               ANO\n",
       "count   665.000000\n",
       "mean   2001.210526\n",
       "std      24.789127\n",
       "min    1909.000000\n",
       "25%    2007.000000\n",
       "50%    2010.000000\n",
       "75%    2014.000000\n",
       "max    2020.000000"
      ]
     },
     "execution_count": 6,
     "metadata": {},
     "output_type": "execute_result"
    }
   ],
   "source": [
    "df.describe()"
   ]
  },
  {
   "cell_type": "code",
   "execution_count": 7,
   "metadata": {},
   "outputs": [
    {
     "data": {
      "text/plain": [
       "SIGLA_INSTITUICAO                object\n",
       "NOME_UNIDADE_ENSINO              object\n",
       "ANO                               int64\n",
       "SIGLA_UF_UNIDADE_ENSINO          object\n",
       "NOME_MUNICIPIO_UNIDADE_ENSINO    object\n",
       "dtype: object"
      ]
     },
     "execution_count": 7,
     "metadata": {},
     "output_type": "execute_result"
    }
   ],
   "source": [
    "df.dtypes"
   ]
  },
  {
   "cell_type": "code",
   "execution_count": 8,
   "metadata": {},
   "outputs": [
    {
     "data": {
      "text/plain": [
       "MG    71\n",
       "RJ    50\n",
       "RS    44\n",
       "SC    38\n",
       "SP    37\n",
       "BA    37\n",
       "PR    37\n",
       "CE    34\n",
       "MA    30\n",
       "GO    27\n",
       "RN    25\n",
       "PB    25\n",
       "PE    24\n",
       "PI    23\n",
       "ES    22\n",
       "PA    20\n",
       "MT    19\n",
       "AL    17\n",
       "AM    17\n",
       "TO    11\n",
       "SE    10\n",
       "RO    10\n",
       "DF    10\n",
       "MS    10\n",
       "AC     6\n",
       "RR     6\n",
       "AP     5\n",
       "Name: SIGLA_UF_UNIDADE_ENSINO, dtype: int64"
      ]
     },
     "execution_count": 8,
     "metadata": {},
     "output_type": "execute_result"
    }
   ],
   "source": [
    "df['SIGLA_UF_UNIDADE_ENSINO'].value_counts()"
   ]
  },
  {
   "cell_type": "code",
   "execution_count": 14,
   "metadata": {},
   "outputs": [
    {
     "data": {
      "image/png": "[encoded data removed]",
      "text/plain": [
       "<Figure size 432x288 with 1 Axes>"
      ]
     },
     "metadata": {
      "needs_background": "light"
     },
     "output_type": "display_data"
    }
   ],
   "source": [
    "sns.barplot(x=df['SIGLA_UF_UNIDADE_ENSINO'].unique(),y=df['SIGLA_UF_UNIDADE_ENSINO'].value_counts(),color='b')\n",
    "plt.show()"
   ]
  },
  {
   "cell_type": "code",
   "execution_count": null,
   "metadata": {},
   "outputs": [],
   "source": []
  }
 ],
 "metadata": {
  "kernelspec": {
   "display_name": "Python 3",
   "language": "python",
   "name": "python3"
  },
  "language_info": {
   "codemirror_mode": {
    "name": "ipython",
    "version": 3
   },
   "file_extension": ".py",
   "mimetype": "text/x-python",
   "name": "python",
   "nbconvert_exporter": "python",
   "pygments_lexer": "ipython3",
   "version": "3.8.5"
  }
 },
 "nbformat": 4,
 "nbformat_minor": 4
}
